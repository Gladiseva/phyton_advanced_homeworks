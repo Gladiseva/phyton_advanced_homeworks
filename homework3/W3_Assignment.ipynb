{
 "cells": [
  {
   "cell_type": "markdown",
   "metadata": {},
   "source": [
    "<h2><center>Week 3 - Assignment</center></h2>\n",
    "<h3><center>Programming for Data Science 2024</center></h3>"
   ]
  },
  {
   "cell_type": "markdown",
   "metadata": {},
   "source": [
    "Exercises for the topics covered in the third lecture.\n",
    "\n",
    "The exercise will be marked as passed if you get **at least 10/15** points.\n",
    "\n",
    "Exercises must be handed in via **ILIAS** (Homework assignments). Deliver your submission as a compressed file (zip) containing one .py or .ipynb file with all exercises. The name of both the .zip and the .py/.ipynb file must be *SurnameName* of the two members of the group. Example: Riccardo Cusinato + Athina Tzovara = *CusinatoRiccardo_TzovaraAthina.zip* .\n",
    "\n",
    "It's important to use comments to explain your code and show that you're able to take ownership of the exercises and discuss them.\n",
    "\n",
    "You are not expected to collaborate outside of the group on exercises and submitting other groups’ code as your own will result in 0 points.\n",
    "\n",
    "For questions contact: *riccardo.cusinato@unibe.ch* with the subject: *Programming for Data Science 2024*.\n",
    "\n",
    "**Deadline: 14:00, March 14, 2024.**"
   ]
  },
  {
   "cell_type": "markdown",
   "metadata": {},
   "source": [
    "<h3 style=\"text-align:left;\">Exercise 1 - Error investigation<span style=\"float: right\">2 points</span></h3>"
   ]
  },
  {
   "cell_type": "markdown",
   "metadata": {},
   "source": [
    "The code below squares and sums the numbers in the array *arr*, and holds the result in the variable *squared_sum*, which should be 1135. However, that is not the case. Correct the code and explain in a comment , clearly and amply, what was wrong."
   ]
  },
  {
   "cell_type": "code",
   "execution_count": 1,
   "metadata": {},
   "outputs": [
    {
     "data": {
      "text/plain": [
       "-145"
      ]
     },
     "execution_count": 1,
     "metadata": {},
     "output_type": "execute_result"
    }
   ],
   "source": [
    "import numpy as np\n",
    "\n",
    "arr = np.array([13, 14, 15, 16, 17], dtype=np.int8)\n",
    "squared_sum = np.sum(arr ** 2)\n",
    "squared_sum"
   ]
  },
  {
   "cell_type": "code",
   "execution_count": 2,
   "metadata": {},
   "outputs": [
    {
     "data": {
      "text/plain": [
       "1135"
      ]
     },
     "execution_count": 2,
     "metadata": {},
     "output_type": "execute_result"
    }
   ],
   "source": [
    "###\n",
    "\n",
    "# For the array arr, it specifies a data type of int8.\n",
    "# This means that a specific number of memory bytes is allocated to store each element,\n",
    "# and int8 can only represent bytes in the range -128 to 127. This can be verified using:\n",
    "# np.iinfo(np.int8)\n",
    "\n",
    "# Since the sum of squared values exceeds the maximum value representable by int8,\n",
    "# the previous result was -145. This happened because in the signed integer 8-bit representation,\n",
    "# the maximum value is 127, and 1135 exceeds this range. Thus, we see a negative number as the result.\n",
    "# To fix the issue, we should use a larger datatype.\n",
    "\n",
    "# For a 16-bit signed integer, the range is: -32,768 to 32,767, which can be verified using:\n",
    "# np.iinfo(np.int16)\n",
    "\n",
    "# Now with int16, we have more space to store larger values as expected.\n",
    "# Therefore, we perform the operation using int16 instead of int8:\n",
    "\n",
    "arr = np.array([13, 14, 15, 16, 17], dtype=np.int16)\n",
    "squared_sum = np.sum(arr ** 2)\n",
    "squared_sum\n",
    "\n",
    "###"
   ]
  },
  {
   "cell_type": "markdown",
   "metadata": {},
   "source": [
    "<h3 style=\"text-align:left;\">Exercise 2 - Vacation selector<span style=\"float: right\">3 points</span></h3>"
   ]
  },
  {
   "cell_type": "markdown",
   "metadata": {},
   "source": [
    "The code below defines five vacation destinations (*locations*) and four attributes for each (*attributes*). Each row describes one destination, and the columns represent scores on the factors scenery, activities, food, and nightlife.\n",
    "\n",
    "Write a function *vacation_advisor* that asks the user whether they find each of the attributes important or not, and suggests the best vacation spot based on these preferences.\n",
    "\n",
    "Use techniques from the third lecture to solve the exercise.\n",
    "\n",
    "Example interaction:\n",
    "```python\n",
    "Is scenery important to you [y/n]?    > y\n",
    "Is activities important to you [y/n]? > y\n",
    "Is food important to you [y/n]?       > n\n",
    "Is nightlife important to you [y/n]?  > n\n",
    "Based on your preferences, the best destination is Australia\n",
    "```"
   ]
  },
  {
   "cell_type": "code",
   "execution_count": 3,
   "metadata": {},
   "outputs": [],
   "source": [
    "# List of destinations\n",
    "locations = np.array([ \"Hawaii\", \"Thailand\", \"Italy\", \"Australia\", \"Japan\" ])\n",
    "\n",
    "# List of attributes for each destination. Each column is an attribute. Each row a destination.\n",
    "attributes = np.array([\n",
    "    [8, 8, 7, 6],\n",
    "    [7, 9, 8, 7],\n",
    "    [8, 6, 9, 7],\n",
    "    [9, 8, 8, 6],\n",
    "    [7, 9, 7, 8]\n",
    "])\n",
    "\n",
    "# Declare attribute names and initialize boolean array with preferences\n",
    "attribute_names = ['scenery', 'activities', 'food', 'nightlife']\n"
   ]
  },
  {
   "cell_type": "code",
   "execution_count": 31,
   "metadata": {},
   "outputs": [
    {
     "name": "stdout",
     "output_type": "stream",
     "text": [
      "Based on your preferences, the best destination is Australia\n"
     ]
    }
   ],
   "source": [
    "###\n",
    "\n",
    "def vacation_advisor(locations, attributes, attribute_names):\n",
    "    \"\"\" Take list of destinations, a list of attribute values for each destination, and a list of attributes\n",
    "     to suggest the best location based on user preferences \"\"\"\n",
    "\n",
    "    # First, ask the user to indicate the importance for each attribute,\n",
    "    # Store responses as boolean values in the array ask_user_preferences \n",
    "    # True if answer is 'y', False otherwise.\n",
    "    ask_user_preferences = np.array([input(f\"Is {attribute} important to you [y/n]? \") == 'y' for attribute in attribute_names])\n",
    "\n",
    "    # Then, we extract important attributes based on user preferences using boolean indexing\n",
    "    # Each column represents an important attribute, with the value corresponding to 'y' responses\n",
    "    extract_important_attributes = attributes[:, ask_user_preferences]\n",
    "\n",
    "    # Calculate total points for each destination\n",
    "    total_attribute_values = np.sum(extract_important_attributes, axis=1)\n",
    "\n",
    "    # Find the index with the maximum total points attributed to each destination, \n",
    "    # that selects the best location index as the suggested destination\n",
    "    index_suggested_location = np.argmax(total_attribute_values)\n",
    "\n",
    "    # Display the best destination based on user preferences\n",
    "    print(f\"Based on your preferences, the best destination is {locations[index_suggested_location]}\")\n",
    "\n",
    "# Call function \n",
    "vacation_advisor(locations, attributes, attribute_names)\n",
    "\n",
    "###\n"
   ]
  },
  {
   "cell_type": "markdown",
   "metadata": {},
   "source": [
    "<h3 style=\"text-align:left;\">Exercise 3 - Indexing<span style=\"float: right\">3 points</span></h3>"
   ]
  },
  {
   "cell_type": "markdown",
   "metadata": {},
   "source": [
    "You have two arrays of the same length: temperature *temp*, and humidity, *rh*. Write a program that:\n",
    "1) Substitutes the values of *temp* for which the corresponding values of *rh* is less than 0.3 with *np.nan*.\n",
    "2) On this new temperature array, calculate the mean value (do **not** calculate it on the original array).\n",
    "\n",
    "As an example:\n",
    "\n",
    "```python\n",
    "temp = [70, 80, 90]\n",
    "rh = [0.5, 0.2, 0.6]\n",
    "\n",
    "temp_nan --> [70, np.nan, 90]\n",
    "temp_avg --> 80\n",
    "```"
   ]
  },
  {
   "cell_type": "code",
   "execution_count": 6,
   "metadata": {},
   "outputs": [],
   "source": [
    "# Generate some surrogate data\n",
    "\n",
    "np.random.seed(29041996)  # Make sure we all have the same data\n",
    "temp = 20 * np.cos(np.linspace(0, 2 * np.pi, 100)) + 80 + 2 * np.random.randn(100)\n",
    "rh = np.abs(0.1 * np.cos(np.linspace(0, 4 * np.pi, 100)) \n",
    "            + 0.3 + 0.05 * np.random.randn(100))\n"
   ]
  },
  {
   "cell_type": "code",
   "execution_count": 7,
   "metadata": {},
   "outputs": [
    {
     "name": "stdout",
     "output_type": "stream",
     "text": [
      "temp_nan:  [ 97.61100965  98.29758553 100.01692772  98.73758771  98.38710799\n",
      " 100.80608254 100.42365343          nan  97.34895106  99.28378744\n",
      "          nan  94.70357922          nan          nan          nan\n",
      "  89.2217891   89.41943969          nan          nan          nan\n",
      "  81.47344699          nan          nan          nan          nan\n",
      "          nan          nan          nan          nan          nan\n",
      "          nan          nan          nan          nan  68.73828046\n",
      "  67.47413002  68.54133082  65.53398191  64.56197892  64.19909813\n",
      "          nan          nan  59.92352112  63.86983538  61.88582567\n",
      "  59.71619218  59.84554475  60.32812302  59.09837842  60.02298563\n",
      "  58.56227652  58.99225298  57.80804413  61.99996728  61.91705067\n",
      "  60.34955294  62.5543744   62.38104106          nan  63.96025183\n",
      "  64.60977283  66.26614781  65.304059    68.41834429  65.57144047\n",
      "          nan          nan          nan          nan          nan\n",
      "          nan          nan          nan          nan          nan\n",
      "          nan          nan          nan          nan  86.7058803\n",
      "  86.03648805          nan          nan          nan          nan\n",
      "          nan  95.27172807  96.21598976  97.89869336          nan\n",
      "  96.62423422  95.02339723          nan          nan 100.59028821\n",
      " 102.35504581  98.02689537 102.72101463  99.04552748 101.36241685]\n",
      "temp_avg:  79.00078388998652\n"
     ]
    }
   ],
   "source": [
    "###\n",
    "\n",
    "def calculate_mean_temp(temp, rh):\n",
    "    \"\"\" Replace temperature values with nan where humidity is less than 0.3,\n",
    "    then calculate the average temperature \"\"\"\n",
    "\n",
    "    # Create arrays\n",
    "    temp = np.array(temp, dtype=float) # to account for: \"ValueError: cannot convert float NaN to integer\"\n",
    "    rh = np.array(rh)\n",
    "    \n",
    "    # Create a mask where values of humidity is less than 0.3\n",
    "    mask = rh < 0.3\n",
    "\n",
    "    # Make a deep copy of temperature, to avoid changing original data\n",
    "    temp_nan = temp.copy()\n",
    "\n",
    "    # Replace temperature values with nan values,\n",
    "    # for each corresponding temperature where the mask is True using boolean indexing\n",
    "    temp_nan[mask] = np.nan\n",
    "    \n",
    "    # Calculate the mean value of the temperature without nan values\n",
    "    temp_avg = np.nanmean(temp_nan)\n",
    "    \n",
    "    # Return temparature array with nan values and the average temperature\n",
    "    return temp_nan, temp_avg\n",
    "\n",
    "# Call function\n",
    "temp_nan, temp_avg = calculate_mean_temp(temp, rh)\n",
    "\n",
    "# Display values\n",
    "print(\"temp_nan: \", temp_nan)\n",
    "print(\"temp_avg: \", temp_avg)\n",
    "\n",
    "###"
   ]
  },
  {
   "cell_type": "markdown",
   "metadata": {},
   "source": [
    "<h3 style=\"text-align:left;\">Exercise 4 - Base converter<span style=\"float: right\">2 points</span></h3>"
   ]
  },
  {
   "cell_type": "markdown",
   "metadata": {},
   "source": [
    "Write a function *int_to_bin* that takes a positive integer as input and returns the binary equivalent of that integer.\n",
    "\n",
    "You can **not** use built-in methods such as *bin()* in your solution."
   ]
  },
  {
   "cell_type": "code",
   "execution_count": 22,
   "metadata": {},
   "outputs": [
    {
     "name": "stdout",
     "output_type": "stream",
     "text": [
      "Binary equivalent of 100: 1100100\n",
      "Binary equivalent of 0: 0\n"
     ]
    }
   ],
   "source": [
    "###\n",
    "\n",
    "def int_to_bin(n):\n",
    "    \"\"\" Takes a positive integer and returns the binary equivalente of the integer \"\"\"\n",
    "\n",
    "    if n == 0:\n",
    "        return 0  # account for the case of 0\n",
    "    \n",
    "    binary_equivalent = []  # empty list to store binary bits\n",
    "    while n > 0:\n",
    "        # Adding the remainder of dividing the number by 2 to the list\n",
    "        # It represents the rightmost digit, which is the value of 2^0\n",
    "        binary_equivalent.append(n % 2)\n",
    "        # Right shift the number by 1 bit to remove the least significant bit (the rightmost bit)\n",
    "        # until we reach 0.\n",
    "        n //= 2\n",
    "    \n",
    "    # Return the reverse list \n",
    "    return binary_equivalent[::-1]  # Reverse the list to get the correct binary representation\n",
    "\n",
    "# Call function testing integer values n\n",
    "n = 100\n",
    "binary = int_to_bin(n)\n",
    "# Display in a binary representation \n",
    "print(f\"Binary equivalent of {n}: {''.join(map(str, binary))}\")\n",
    "\n",
    "n = 0\n",
    "print(f\"Binary equivalent of {n}: {int_to_bin(n)}\")\n",
    "\n",
    "###\n"
   ]
  },
  {
   "cell_type": "markdown",
   "metadata": {},
   "source": [
    "<h3 style=\"text-align:left;\">Exercise 5 - Broadcasting<span style=\"float: right\">2 points</span></h3>"
   ]
  },
  {
   "cell_type": "markdown",
   "metadata": {},
   "source": [
    "Reshape *a* so it is possible to multiply *a* and *b*, and explain why you had to reshape *a* to be able to multiply the two arrays."
   ]
  },
  {
   "cell_type": "code",
   "execution_count": 38,
   "metadata": {},
   "outputs": [
    {
     "name": "stdout",
     "output_type": "stream",
     "text": [
      "a:  [[1 2 3]\n",
      " [4 5 6]]\n",
      "b:  [2 3]\n",
      "reshaped a:  [[1 2]\n",
      " [3 4]\n",
      " [5 6]]\n",
      "multiplication:  [[ 2  6]\n",
      " [ 6 12]\n",
      " [10 18]]\n"
     ]
    }
   ],
   "source": [
    "import numpy as np\n",
    "\n",
    "a = np.array([[1, 2, 3], [4, 5, 6]])\n",
    "b = np.array([2, 3])\n",
    "\n",
    "# Display the array a and b \n",
    "print(\"a: \", a)\n",
    "print(\"b: \", b)\n",
    "\n",
    "# Without reshaping a * b throws an Valuerror : \"operands could not be broadcast together with shapes (2,3) (2,) \"\n",
    "\n",
    "# Reshape to have the same number of elements as b\n",
    "a.shape = (3, 2)\n",
    "print(\"reshaped a: \", a)\n",
    "print(\"multiplication: \", a * b)"
   ]
  },
  {
   "cell_type": "code",
   "execution_count": 15,
   "metadata": {},
   "outputs": [],
   "source": [
    "# Before reshaping, we could not multiply arrays because their dimensions were not aligned\n",
    "# Array a(2, 3) had two rows and three columns.\n",
    "# Array b(2,) had a single row with two elements.\n",
    "# There were no clear way to align the rows and columns\n",
    "# After reshaping a to (3, 2) it became possible to align the dimensions with b (3 rows and 2 columns to two columns and one row)"
   ]
  },
  {
   "cell_type": "markdown",
   "metadata": {},
   "source": [
    "<h3 style=\"text-align:left;\">Exercise 6 - Moving average<span style=\"float: right\">3 points</span></h3>"
   ]
  },
  {
   "cell_type": "markdown",
   "metadata": {},
   "source": [
    "Given the array of values, *a*, we can calculate the moving average by averaging nearby values and repeating the procedure sliding along the array. Here's an example of a 3-point moving average (ignoring the edges), with a for loop:"
   ]
  },
  {
   "cell_type": "code",
   "execution_count": 14,
   "metadata": {},
   "outputs": [
    {
     "name": "stdout",
     "output_type": "stream",
     "text": [
      "[35.3 30.8 32.2 29.8 28.7 28.2 33.6 31.3 28.6 31.3 28.5 28.6 30.8 29.4\n",
      " 31.7 31.9 31.2 29.3 30.7 33.3]\n",
      "[35.3        32.76666667 30.93333333 30.23333333 28.9        30.16666667\n",
      " 31.03333333 31.16666667 30.4        29.46666667 29.46666667 29.3\n",
      " 29.6        30.63333333 31.         31.6        30.8        30.4\n",
      " 31.1        33.3       ]\n"
     ]
    }
   ],
   "source": [
    "a = np.round(30 + np.random.randn(20) * 2, 1)\n",
    "print(a)\n",
    "\n",
    "# Moving average\n",
    "a_avg = np.zeros_like(a)\n",
    "# We're just ignoring the edge effects here\n",
    "for i in range(1, len(a) - 1):\n",
    "    sub = a[i - 1:i + 2]\n",
    "    a_avg[i] = sub.mean()\n",
    "# For the first and last point, we use the original values.\n",
    "a_avg[[0, -1]] = a[[0, -1]]\n",
    "print(a_avg)"
   ]
  },
  {
   "cell_type": "markdown",
   "metadata": {},
   "source": [
    "Write a function *mov_avg* that takes an array in input and returns its 3-point moving average. You **have to use broadcasting** to compute the moving average. As in the example, use the original array values at the borders."
   ]
  },
  {
   "cell_type": "code",
   "execution_count": 29,
   "metadata": {},
   "outputs": [
    {
     "name": "stdout",
     "output_type": "stream",
     "text": [
      "Original array: [30.5 31.4 31.2 27.9 27.9 32.  30.1 28.4 27.7 35.7 31.1 30.3 31.9 30.2\n",
      " 30.3 28.3 33.8 31.9 32.3 29.7]\n",
      "[30.5 31.4 31.2 27.9 27.9 32.  30.1 28.4 27.7 35.7 31.1 30.3 31.9 30.2\n",
      " 30.3 28.3 33.8 31.9] array1\n",
      "[31.4 31.2 27.9 27.9 32.  30.1 28.4 27.7 35.7 31.1 30.3 31.9 30.2 30.3\n",
      " 28.3 33.8 31.9 32.3] array2\n",
      "[31.2 27.9 27.9 32.  30.1 28.4 27.7 35.7 31.1 30.3 31.9 30.2 30.3 28.3\n",
      " 33.8 31.9 32.3 29.7] array3\n",
      "Moving average: [30.5        31.03333333 30.16666667 29.         29.26666667 30.\n",
      " 30.16666667 28.73333333 30.6        31.5        32.36666667 31.1\n",
      " 30.8        30.8        29.6        30.8        31.33333333 32.66666667\n",
      " 31.3        29.7       ]\n"
     ]
    }
   ],
   "source": [
    "###\n",
    "\n",
    "def mov_avg(array):\n",
    "    \"\"\" Compute the moving average of an array as input using broadcasting \"\"\"\n",
    "    \n",
    "    # First, create a new array with zeros with the same fimension that array\n",
    "    a_avg = np.zeros_like(array)\n",
    "    \n",
    "    # Then, we get 3 sub arrays:\n",
    "    # array[:-2]: selects all elements from array except for the last two.\n",
    "    # array[1:-1]: selects all elements from  array except for the first and last.\n",
    "    # array[2:]: selects all elements of the array except for the first two.\n",
    "    # And by taking the element at the same index from each array, \n",
    "    # We can have the three point sliding window average.\n",
    "    # It's an element-wise operation performed on arrays—but it's not strictly broadcasting cause the shapes are already compatible\n",
    "    # although we divide array by a scalar: “stretch” or duplicate the value\n",
    "    a_avg[1:-1] = (array[:-2] + array[1:-1] + array[2:]) / 3\n",
    "    # print(array[:-2], \"subarray1\") # Print subarrays for debugging \n",
    "    # print(array[1:-1], \"subarray2\")\n",
    "    # print(array[2:], \"subarray3\")\n",
    "    \n",
    "    # For the first and last point, we use the original values.\n",
    "    a_avg[[0, -1]] = array[[0, -1]]\n",
    "    \n",
    "    return a_avg\n",
    "\n",
    "# Call function using random data \n",
    "a = np.round(30 + np.random.randn(20) * 2, 1)\n",
    "print(\"Original array:\", a)\n",
    "a_moving_avg = mov_avg(a)\n",
    "print(\"Moving average:\", a_moving_avg)\n",
    "\n",
    "###"
   ]
  }
 ],
 "metadata": {
  "kernelspec": {
   "display_name": "dash",
   "language": "python",
   "name": "python3"
  },
  "language_info": {
   "codemirror_mode": {
    "name": "ipython",
    "version": 3
   },
   "file_extension": ".py",
   "mimetype": "text/x-python",
   "name": "python",
   "nbconvert_exporter": "python",
   "pygments_lexer": "ipython3",
   "version": "3.12.0"
  }
 },
 "nbformat": 4,
 "nbformat_minor": 2
}
