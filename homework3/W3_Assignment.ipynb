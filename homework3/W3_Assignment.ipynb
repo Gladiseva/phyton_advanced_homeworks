{
 "cells": [
  {
   "cell_type": "markdown",
   "metadata": {},
   "source": [
    "<h2><center>Week 3 - Assignment</center></h2>\n",
    "<h3><center>Programming for Data Science 2024</center></h3>"
   ]
  },
  {
   "cell_type": "markdown",
   "metadata": {},
   "source": [
    "Exercises for the topics covered in the third lecture.\n",
    "\n",
    "The exercise will be marked as passed if you get **at least 10/15** points.\n",
    "\n",
    "Exercises must be handed in via **ILIAS** (Homework assignments). Deliver your submission as a compressed file (zip) containing one .py or .ipynb file with all exercises. The name of both the .zip and the .py/.ipynb file must be *SurnameName* of the two members of the group. Example: Riccardo Cusinato + Athina Tzovara = *CusinatoRiccardo_TzovaraAthina.zip* .\n",
    "\n",
    "It's important to use comments to explain your code and show that you're able to take ownership of the exercises and discuss them.\n",
    "\n",
    "You are not expected to collaborate outside of the group on exercises and submitting other groups’ code as your own will result in 0 points.\n",
    "\n",
    "For questions contact: *riccardo.cusinato@unibe.ch* with the subject: *Programming for Data Science 2024*.\n",
    "\n",
    "**Deadline: 14:00, March 14, 2024.**"
   ]
  },
  {
   "cell_type": "markdown",
   "metadata": {},
   "source": [
    "<h3 style=\"text-align:left;\">Exercise 1 - Error investigation<span style=\"float: right\">2 points</span></h3>"
   ]
  },
  {
   "cell_type": "markdown",
   "metadata": {},
   "source": [
    "The code below squares and sums the numbers in the array *arr*, and holds the result in the variable *squared_sum*, which should be 1135. However, that is not the case. Correct the code and explain in a comment , clearly and amply, what was wrong."
   ]
  },
  {
   "cell_type": "code",
   "execution_count": 3,
   "metadata": {},
   "outputs": [
    {
     "data": {
      "text/plain": [
       "-145"
      ]
     },
     "execution_count": 3,
     "metadata": {},
     "output_type": "execute_result"
    }
   ],
   "source": [
    "import numpy as np\n",
    "\n",
    "arr = np.array([13, 14, 15, 16, 17], dtype=np.int8)\n",
    "squared_sum = np.sum(arr ** 2)\n",
    "squared_sum"
   ]
  },
  {
   "cell_type": "code",
   "execution_count": 4,
   "metadata": {},
   "outputs": [
    {
     "data": {
      "text/plain": [
       "1135"
      ]
     },
     "execution_count": 4,
     "metadata": {},
     "output_type": "execute_result"
    }
   ],
   "source": [
    "# changed dtype=np.int8 to dtype=np.int16\n",
    "# previous result was -145 because in signedinteger[_8Bit] representation maximum value is 127 and 1135 is bigger\n",
    "# for 16-bit signed integer range is: -32,768 to 32,767\n",
    "arr = np.array([13, 14, 15, 16, 17], dtype=np.int16)\n",
    "squared_sum = np.sum(arr ** 2)\n",
    "squared_sum"
   ]
  },
  {
   "cell_type": "markdown",
   "metadata": {},
   "source": [
    "<h3 style=\"text-align:left;\">Exercise 2 - Vacation selector<span style=\"float: right\">3 points</span></h3>"
   ]
  },
  {
   "cell_type": "markdown",
   "metadata": {},
   "source": [
    "The code below defines five vacation destinations (*locations*) and four attributes for each (*attributes*). Each row describes one destination, and the columns represent scores on the factors scenery, activities, food, and nightlife.\n",
    "\n",
    "Write a function *vacation_advisor* that asks the user whether they find each of the attributes important or not, and suggests the best vacation spot based on these preferences.\n",
    "\n",
    "Use techniques from the third lecture to solve the exercise.\n",
    "\n",
    "Example interaction:\n",
    "```python\n",
    "Is scenery important to you [y/n]?    > y\n",
    "Is activities important to you [y/n]? > y\n",
    "Is food important to you [y/n]?       > n\n",
    "Is nightlife important to you [y/n]?  > n\n",
    "Based on your preferences, the best destination is Australia\n",
    "```"
   ]
  },
  {
   "cell_type": "code",
   "execution_count": 8,
   "metadata": {},
   "outputs": [],
   "source": [
    "# List of destinations\n",
    "locations = np.array([ \"Hawaii\", \"Thailand\", \"Italy\", \"Australia\", \"Japan\" ])\n",
    "\n",
    "# List of attributes for each destination. Each column is an attribute. Each row a destination.\n",
    "attributes = np.array([\n",
    "    [8, 8, 7, 6],\n",
    "    [7, 9, 8, 7],\n",
    "    [8, 6, 9, 7],\n",
    "    [9, 8, 8, 6],\n",
    "    [7, 9, 7, 8]\n",
    "])\n",
    "\n",
    "# Declare attribute names and initialize boolean array with preferences\n",
    "attribute_names = ['scenery', 'activities', 'food', 'nightlife']\n"
   ]
  },
  {
   "cell_type": "code",
   "execution_count": 9,
   "metadata": {},
   "outputs": [
    {
     "data": {
      "application/vnd.jupyter.widget-view+json": {
       "model_id": "970293d301e54422aa60fcf279a69870",
       "version_major": 2,
       "version_minor": 0
      },
      "text/plain": [
       "RadioButtons(description='Is scenery important to you?', options=('y', 'n'), value='y')"
      ]
     },
     "metadata": {},
     "output_type": "display_data"
    },
    {
     "data": {
      "application/vnd.jupyter.widget-view+json": {
       "model_id": "4d7c15352aea47dda1c78d44fdecaf8b",
       "version_major": 2,
       "version_minor": 0
      },
      "text/plain": [
       "RadioButtons(description='Is activities important to you?', options=('y', 'n'), value='y')"
      ]
     },
     "metadata": {},
     "output_type": "display_data"
    },
    {
     "data": {
      "application/vnd.jupyter.widget-view+json": {
       "model_id": "755365471dac43e99fb5769ed8b43ef2",
       "version_major": 2,
       "version_minor": 0
      },
      "text/plain": [
       "RadioButtons(description='Is food important to you?', options=('y', 'n'), value='y')"
      ]
     },
     "metadata": {},
     "output_type": "display_data"
    },
    {
     "data": {
      "application/vnd.jupyter.widget-view+json": {
       "model_id": "e8d43d07118745388d55cd5ac098e498",
       "version_major": 2,
       "version_minor": 0
      },
      "text/plain": [
       "RadioButtons(description='Is nightlife important to you?', options=('y', 'n'), value='y')"
      ]
     },
     "metadata": {},
     "output_type": "display_data"
    },
    {
     "data": {
      "application/vnd.jupyter.widget-view+json": {
       "model_id": "d7f7ef734f4444f495cfaed77e627879",
       "version_major": 2,
       "version_minor": 0
      },
      "text/plain": [
       "Button(description='Submit', style=ButtonStyle())"
      ]
     },
     "metadata": {},
     "output_type": "display_data"
    }
   ],
   "source": [
    "import ipywidgets as widgets\n",
    "from IPython.display import display\n",
    "\n",
    "def vacation_advisor(important_criteria):\n",
    "    # Use array slicing to select all rows and the specified columns\n",
    "    selected_data = attributes[:, important_criteria.astype(bool)]\n",
    "    # Sum along rows to find destination with biggest sum acros all criteria\n",
    "    row_sums = np.sum(selected_data, axis=1)\n",
    "    # get an index of a row with a max sum, because it correcpods to an indexing of locations array\n",
    "    max_sum = np.max(row_sums)\n",
    "    max_sum_indices = np.where(row_sums == max_sum)[0]\n",
    "    recommended_locations = locations[max_sum_indices]\n",
    "    return recommended_locations\n",
    "\n",
    "\n",
    "def on_submit_button_clicked(button):\n",
    "    important_criteria = np.array([radio_buttons[i].value == 'y' for i in range(len(attribute_names))])\n",
    "    result = vacation_advisor(important_criteria)\n",
    "    if len(result) > 1:\n",
    "        print(\"Based on your preferences, the best destinations are:\", \", \".join(result))\n",
    "    else:\n",
    "        print(\"Based on your preferences, the best destination is:\", \", \".join(result)) \n",
    "\n",
    "# Create radio buttons for each criterion\n",
    "# we are basing it on predifined attribute_names, cause we assume even with future change structure will remain the same\n",
    "# => connection between locations, attributes and attribute_names will remain the same\n",
    "# like this our code wont need to be changed with addition of new entries \n",
    "radio_buttons = [widgets.RadioButtons(options=['y', 'n'], description=f'Is {criterium} important to you?') \n",
    "                 for criterium in attribute_names]\n",
    "\n",
    "# Create a submit button\n",
    "submit_button = widgets.Button(description='Submit')\n",
    "submit_button.on_click(on_submit_button_clicked)\n",
    "\n",
    "# Display the widgets\n",
    "display(*radio_buttons)\n",
    "display(submit_button)\n",
    "\n",
    "# it is an overkill with widgets but i couldnt make input() work\n"
   ]
  },
  {
   "cell_type": "markdown",
   "metadata": {},
   "source": [
    "<h3 style=\"text-align:left;\">Exercise 3 - Indexing<span style=\"float: right\">3 points</span></h3>"
   ]
  },
  {
   "cell_type": "markdown",
   "metadata": {},
   "source": [
    "You have two arrays of the same length: temperature *temp*, and humidity, *rh*. Write a program that:\n",
    "1) Substitutes the values of *temp* for which the corresponding values of *rh* is less than 0.3 with *np.nan*.\n",
    "2) On this new temperature array, calculate the mean value (do **not** calculate it on the original array).\n",
    "\n",
    "As an example:\n",
    "\n",
    "```python\n",
    "temp = [70, 80, 90]\n",
    "rh = [0.5, 0.2, 0.6]\n",
    "\n",
    "temp_nan --> [70, np.nan, 90]\n",
    "temp_avg --> 80\n",
    "```"
   ]
  },
  {
   "cell_type": "code",
   "execution_count": 10,
   "metadata": {},
   "outputs": [],
   "source": [
    "# Generate some surrogate data\n",
    "\n",
    "np.random.seed(29041996)  # Make sure we all have the same data\n",
    "temp = 20 * np.cos(np.linspace(0, 2 * np.pi, 100)) + 80 + 2 * np.random.randn(100)\n",
    "rh = np.abs(0.1 * np.cos(np.linspace(0, 4 * np.pi, 100)) \n",
    "            + 0.3 + 0.05 * np.random.randn(100))\n"
   ]
  },
  {
   "cell_type": "code",
   "execution_count": 11,
   "metadata": {},
   "outputs": [
    {
     "name": "stdout",
     "output_type": "stream",
     "text": [
      "temp_nan:  [ 97.61100965  98.29758553 100.01692772  98.73758771  98.38710799\n",
      " 100.80608254 100.42365343          nan  97.34895106  99.28378744\n",
      "          nan  94.70357922          nan          nan          nan\n",
      "  89.2217891   89.41943969          nan          nan          nan\n",
      "  81.47344699          nan          nan          nan          nan\n",
      "          nan          nan          nan          nan          nan\n",
      "          nan          nan          nan          nan  68.73828046\n",
      "  67.47413002  68.54133082  65.53398191  64.56197892  64.19909813\n",
      "          nan          nan  59.92352112  63.86983538  61.88582567\n",
      "  59.71619218  59.84554475  60.32812302  59.09837842  60.02298563\n",
      "  58.56227652  58.99225298  57.80804413  61.99996728  61.91705067\n",
      "  60.34955294  62.5543744   62.38104106          nan  63.96025183\n",
      "  64.60977283  66.26614781  65.304059    68.41834429  65.57144047\n",
      "          nan          nan          nan          nan          nan\n",
      "          nan          nan          nan          nan          nan\n",
      "          nan          nan          nan          nan  86.7058803\n",
      "  86.03648805          nan          nan          nan          nan\n",
      "          nan  95.27172807  96.21598976  97.89869336          nan\n",
      "  96.62423422  95.02339723          nan          nan 100.59028821\n",
      " 102.35504581  98.02689537 102.72101463  99.04552748 101.36241685]\n",
      "temp_avg:  79.00078388998652\n"
     ]
    }
   ],
   "source": [
    "\n",
    "def calculate_mean_temp(temp, rh):\n",
    "    temp = np.array(temp, dtype=float) # to account for: \"ValueError: cannot convert float NaN to integer\"\n",
    "    rh = np.array(rh)\n",
    "    \n",
    "    # Create a mask where values of *rh* is less than 0.3\n",
    "    mask = rh < 0.3\n",
    "    \n",
    "    # Replace the corresponding temperature values with np.nan\n",
    "    # but first make a deep copy of temperature, to not to operate on original data\n",
    "    temp_nan = temp.copy()\n",
    "    temp_nan[mask] = np.nan\n",
    "    \n",
    "    # Calculate the mean value of the temperature array without np.nan values\n",
    "    temp_avg = np.nanmean(temp_nan)\n",
    "    \n",
    "    return temp_nan, temp_avg\n",
    "\n",
    "temp_nan, temp_avg = calculate_mean_temp(temp, rh)\n",
    "print(\"temp_nan: \", temp_nan)\n",
    "print(\"temp_avg: \", temp_avg)"
   ]
  },
  {
   "cell_type": "markdown",
   "metadata": {},
   "source": [
    "<h3 style=\"text-align:left;\">Exercise 4 - Base converter<span style=\"float: right\">2 points</span></h3>"
   ]
  },
  {
   "cell_type": "markdown",
   "metadata": {},
   "source": [
    "Write a function *int_to_bin* that takes a positive integer as input and returns the binary equivalent of that integer.\n",
    "\n",
    "You can **not** use built-in methods such as *bin()* in your solution."
   ]
  },
  {
   "cell_type": "code",
   "execution_count": 12,
   "metadata": {},
   "outputs": [
    {
     "name": "stdout",
     "output_type": "stream",
     "text": [
      "[1, 1, 0, 0, 1, 0, 0]\n",
      "[0]\n"
     ]
    }
   ],
   "source": [
    "def int_to_bin(n):\n",
    "    if n == 0:\n",
    "        return [0]  # account for the case of 0\n",
    "    \n",
    "    binary_equivalent = []  # empty list to store binary bits\n",
    "    while n > 0:\n",
    "        # adding the remainder of dividing the number by 2 to the list\n",
    "        # it will be the rightmost digit, which represents the value of 2^0\n",
    "        binary_equivalent.append(n % 2)\n",
    "        # right shift the number by 1 bit to remove the least significant bit (the rightmost bit)\n",
    "        # until we reach 0.\n",
    "        n //= 2\n",
    "    \n",
    "    return binary_equivalent[::-1]  # Reverse the list to get the correct binary representation\n",
    "\n",
    "# Test\n",
    "print(int_to_bin(100))\n",
    "print(int_to_bin(0))"
   ]
  },
  {
   "cell_type": "markdown",
   "metadata": {},
   "source": [
    "<h3 style=\"text-align:left;\">Exercise 5 - Broadcasting<span style=\"float: right\">2 points</span></h3>"
   ]
  },
  {
   "cell_type": "markdown",
   "metadata": {},
   "source": [
    "Reshape *a* so it is possible to multiply *a* and *b*, and explain why you had to reshape *a* to be able to multiply the two arrays."
   ]
  },
  {
   "cell_type": "code",
   "execution_count": 13,
   "metadata": {},
   "outputs": [
    {
     "name": "stdout",
     "output_type": "stream",
     "text": [
      "a:  [[1 2 3]\n",
      " [4 5 6]]\n",
      "b:  [2 3]\n",
      "reshaped a:  [[1 2]\n",
      " [3 4]\n",
      " [5 6]]\n",
      "multiplication:  [[ 2  6]\n",
      " [ 6 12]\n",
      " [10 18]]\n"
     ]
    }
   ],
   "source": [
    "import numpy as np\n",
    "\n",
    "a = np.array([[1, 2, 3], [4, 5, 6]])\n",
    "b = np.array([2, 3])\n",
    "\n",
    "print(\"a: \", a)\n",
    "print(\"b: \", b)\n",
    "\n",
    "# without reshaping a * b throws an error : \"operands could not be broadcast together with shapes (2,3) (2,) \"\n",
    "\n",
    "a.shape = (3, 2)\n",
    "print(\"reshaped a: \", a)\n",
    "print(\"multiplication: \", a * b)"
   ]
  },
  {
   "cell_type": "code",
   "execution_count": 15,
   "metadata": {},
   "outputs": [],
   "source": [
    "# before reshaping we could not multiply arrays because their dimensions were not aligned\n",
    "# array a(2, 3) had two rows and three columns.\n",
    "# array b(2,) had a single row with two elements.\n",
    "# there were no clear way to align the rows and columns\n",
    "# after reshaping a to (3, 2) it became possible to align the dimensions with b (3 rows and 2 columns to two columns and one row)"
   ]
  },
  {
   "cell_type": "markdown",
   "metadata": {},
   "source": [
    "<h3 style=\"text-align:left;\">Exercise 6 - Moving average<span style=\"float: right\">3 points</span></h3>"
   ]
  },
  {
   "cell_type": "markdown",
   "metadata": {},
   "source": [
    "Given the array of values, *a*, we can calculate the moving average by averaging nearby values and repeating the procedure sliding along the array. Here's an example of a 3-point moving average (ignoring the edges), with a for loop:"
   ]
  },
  {
   "cell_type": "code",
   "execution_count": 14,
   "metadata": {},
   "outputs": [
    {
     "name": "stdout",
     "output_type": "stream",
     "text": [
      "[35.3 30.8 32.2 29.8 28.7 28.2 33.6 31.3 28.6 31.3 28.5 28.6 30.8 29.4\n",
      " 31.7 31.9 31.2 29.3 30.7 33.3]\n",
      "[35.3        32.76666667 30.93333333 30.23333333 28.9        30.16666667\n",
      " 31.03333333 31.16666667 30.4        29.46666667 29.46666667 29.3\n",
      " 29.6        30.63333333 31.         31.6        30.8        30.4\n",
      " 31.1        33.3       ]\n"
     ]
    }
   ],
   "source": [
    "a = np.round(30 + np.random.randn(20) * 2, 1)\n",
    "print(a)\n",
    "\n",
    "# Moving average\n",
    "a_avg = np.zeros_like(a)\n",
    "# We're just ignoring the edge effects here\n",
    "for i in range(1, len(a) - 1):\n",
    "    sub = a[i - 1:i + 2]\n",
    "    a_avg[i] = sub.mean()\n",
    "# For the first and last point, we use the original values.\n",
    "a_avg[[0, -1]] = a[[0, -1]]\n",
    "print(a_avg)"
   ]
  },
  {
   "cell_type": "markdown",
   "metadata": {},
   "source": [
    "Write a function *mov_avg* that takes an array in input and returns its 3-point moving average. You **have to use broadcasting** to compute the moving average. As in the example, use the original array values at the borders."
   ]
  },
  {
   "cell_type": "code",
   "execution_count": 19,
   "metadata": {},
   "outputs": [
    {
     "name": "stdout",
     "output_type": "stream",
     "text": [
      "Original array: [27.1 29.7 28.6 30.7 26.6 32.  35.3 30.2 31.3 31.2 31.3 29.8 27.2 29.3\n",
      " 29.8 29.9 27.7 29.1 31.3 30.9]\n",
      "Moving average: [27.1        28.46666667 29.66666667 28.63333333 29.76666667 31.3\n",
      " 32.5        32.26666667 30.9        31.26666667 30.76666667 29.43333333\n",
      " 28.76666667 28.76666667 29.66666667 29.13333333 28.9        29.36666667\n",
      " 30.43333333 30.9       ]\n"
     ]
    }
   ],
   "source": [
    "def mov_avg(array):\n",
    "    a_avg = np.zeros_like(array)\n",
    "    \n",
    "    # compute the moving average using broadcasting\n",
    "    # array[:-2]: selects all elements from array except for the last two.\n",
    "    # array[1:-1]: selects all elements from  array except for the first and last.\n",
    "    # array[2:]: selects all elements of the array except for the first two.\n",
    "    # like twis we will have three arrays\n",
    "    # and by taking the element at the same index from each array we can have the three point sliding window we are looking for \n",
    "    a_avg[1:-1] = (array[:-2] + array[1:-1] + array[2:]) / 3\n",
    "    \n",
    "    # For the first and last point, we use the original values.\n",
    "    a_avg[[0, -1]] = array[[0, -1]]\n",
    "    \n",
    "    return a_avg\n",
    "\n",
    "# Test\n",
    "a = np.round(30 + np.random.randn(20) * 2, 1)\n",
    "print(\"Original array:\", a)\n",
    "a_moving_avg = mov_avg(a)\n",
    "print(\"Moving average:\", a_moving_avg)"
   ]
  }
 ],
 "metadata": {
  "kernelspec": {
   "display_name": "dash",
   "language": "python",
   "name": "python3"
  },
  "language_info": {
   "codemirror_mode": {
    "name": "ipython",
    "version": 3
   },
   "file_extension": ".py",
   "mimetype": "text/x-python",
   "name": "python",
   "nbconvert_exporter": "python",
   "pygments_lexer": "ipython3",
   "version": "3.12.0"
  }
 },
 "nbformat": 4,
 "nbformat_minor": 2
}
