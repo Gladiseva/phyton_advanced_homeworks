{
 "cells": [
  {
   "cell_type": "markdown",
   "metadata": {},
   "source": [
    "<h2><center>Week 5 - Assignment</center></h2>\n",
    "<h3><center>Programming for Data Science 2024</center></h3>"
   ]
  },
  {
   "cell_type": "markdown",
   "metadata": {},
   "source": [
    "Exercises for the topics covered in the fifth lecture.\n",
    "\n",
    "The exercise will be marked as passed if you get **at least 10/15** points.\n",
    "\n",
    "Exercises must be handed in via **ILIAS** (Homework assignments). Deliver your submission as a compressed file (zip) containing one .py or .ipynb file with all exercises. The name of both the .zip and the .py/.ipynb file **must** be *SurnameName* of the two members of the group. Example: Riccardo Cusinato + Athina Tzovara = *CusinatoRiccardo_TzovaraAthina.zip* .\n",
    "\n",
    "It's important to use comments to explain your code and show that you're able to take ownership of the exercises and discuss them.\n",
    "\n",
    "You are not expected to collaborate outside of the group on exercises and submitting other groups’ code as your own will result in 0 points.\n",
    "\n",
    "For questions contact: *riccardo.cusinato@unibe.ch* with the subject: *Programming for Data Science 2024*.\n",
    "\n",
    "**Deadline: 14:00, March 28, 2024.**"
   ]
  },
  {
   "cell_type": "markdown",
   "metadata": {},
   "source": [
    "<h3 style=\"text-align:left;\">Exercise 1 - Fitbit dataset<span style=\"float: right\">3 points</span></h3>"
   ]
  },
  {
   "cell_type": "markdown",
   "metadata": {},
   "source": [
    "We will work with three datasets - 'activity.csv', 'calories.csv', and 'last_participant.csv', which contains activity tracker data from https://www.kaggle.com/datasets/arashnic/fitbit\n",
    "\n",
    "If you are unable to do this exercise, you can load the dataset 'combined_solution.csv' for the next exercise. "
   ]
  },
  {
   "cell_type": "markdown",
   "metadata": {},
   "source": [
    "1. **Data preparation** (*1 point*)\n",
    "\n",
    "    - Load the two datasets 'activity.csv' and 'calories.csv'.\n",
    "    - Use pd.to_datetime to standardize the ActivityDate columns (https://pandas.pydata.org/docs/reference/api/pandas.to_datetime.html)"
   ]
  },
  {
   "cell_type": "code",
   "execution_count": 1,
   "metadata": {},
   "outputs": [
    {
     "name": "stdout",
     "output_type": "stream",
     "text": [
      "           ID ActivityDate  TotalSteps  TotalDistance  VeryActiveDistance  \\\n",
      "0  1503960366   2016-04-12     13162.0           8.50                1.88   \n",
      "1  1503960366   2016-04-13     10735.0           6.97                1.57   \n",
      "2  1503960366   2016-04-14     10460.0           6.74                2.44   \n",
      "\n",
      "   ModeratelyActiveDistance  LightActiveDistance  VeryActiveMinutes  \\\n",
      "0                      0.55                 6.06                 25   \n",
      "1                      0.69                 4.71                 21   \n",
      "2                      0.40                 3.91                 30   \n",
      "\n",
      "   FairlyActiveMinutes  LightlyActiveMinutes  \n",
      "0                   13                   328  \n",
      "1                   19                   217  \n",
      "2                   11                   181   Activity DataSet\n",
      "           ID ActivityDate  Calories\n",
      "0  1624580081   2016-04-12    1432.0\n",
      "1  1624580081   2016-04-13    1411.0\n",
      "2  1624580081   2016-04-14    1572.0 Calories DataSet\n"
     ]
    }
   ],
   "source": [
    "###\n",
    "\n",
    "import pandas as pd\n",
    "import numpy as np \n",
    "\n",
    "# Load activity dataset \n",
    "df_activity = pd.read_csv('./data/activity.csv')\n",
    "# Standardize the ActivityDate column\n",
    "df_activity['ActivityDate'] = pd.to_datetime(df_activity[\"ActivityDate\"], format='mixed') # format='mixed', to get rid of the warning: 'UserWarning: Could not infer format'\n",
    "# Display 3 lines of the activity dataset \n",
    "print(df_activity.head(3), \"Activity DataSet\")\n",
    "\n",
    "# Load calories dataset \n",
    "df_calories = pd.read_csv('./data/calories.csv')\n",
    "# Standardize the ActivityDate column\n",
    "df_calories['ActivityDate'] = pd.to_datetime(df_calories[\"ActivityDate\"], format='mixed')\n",
    "# Display 3 lines of the calories dataset \n",
    "print(df_calories.head(3), \"Calories DataSet\")\n",
    "\n",
    "\n",
    "###"
   ]
  },
  {
   "cell_type": "markdown",
   "metadata": {},
   "source": [
    "2. **Merging** (*1 point*)\n",
    "\n",
    "    - Consider what information is shared between the two datasets and merge them. Keep in mind that the order of rows is not the same in both datasets!\n",
    "    - Print out the mean \"TotalSteps\" of the merged DataFrame at this point."
   ]
  },
  {
   "cell_type": "code",
   "execution_count": 3,
   "metadata": {},
   "outputs": [
    {
     "name": "stdout",
     "output_type": "stream",
     "text": [
      "Index(['ID', 'ActivityDate', 'TotalSteps', 'TotalDistance',\n",
      "       'VeryActiveDistance', 'ModeratelyActiveDistance', 'LightActiveDistance',\n",
      "       'VeryActiveMinutes', 'FairlyActiveMinutes', 'LightlyActiveMinutes'],\n",
      "      dtype='object') activity columns\n",
      "Index(['ID', 'ActivityDate', 'Calories'], dtype='object') calories columns\n",
      "             ID ActivityDate  TotalSteps  TotalDistance  VeryActiveDistance  \\\n",
      "0    1503960366   2016-04-12     13162.0           8.50                1.88   \n",
      "1    1503960366   2016-04-13     10735.0           6.97                1.57   \n",
      "2    1503960366   2016-04-14     10460.0           6.74                2.44   \n",
      "3    1503960366   2016-04-15      9762.0           6.28                2.14   \n",
      "4    1503960366   2016-04-16     12669.0           8.16                2.71   \n",
      "..          ...          ...         ...            ...                 ...   \n",
      "904  8792009665   2016-05-06         NaN           0.00                0.00   \n",
      "905  8792009665   2016-05-07         NaN           0.00                0.00   \n",
      "906  8792009665   2016-05-08         NaN           0.00                0.00   \n",
      "907  8792009665   2016-05-09         NaN           0.00                0.00   \n",
      "908  8792009665   2016-05-10         NaN           0.00                0.00   \n",
      "\n",
      "     ModeratelyActiveDistance  LightActiveDistance  VeryActiveMinutes  \\\n",
      "0                        0.55                 6.06                 25   \n",
      "1                        0.69                 4.71                 21   \n",
      "2                        0.40                 3.91                 30   \n",
      "3                        1.26                 2.83                 29   \n",
      "4                        0.41                 5.04                 36   \n",
      "..                        ...                  ...                ...   \n",
      "904                      0.00                 0.00                  0   \n",
      "905                      0.00                 0.00                  0   \n",
      "906                      0.00                 0.00                  0   \n",
      "907                      0.00                 0.00                  0   \n",
      "908                      0.00                 0.00                  0   \n",
      "\n",
      "     FairlyActiveMinutes  LightlyActiveMinutes  Calories  \n",
      "0                     13                   328    1985.0  \n",
      "1                     19                   217       NaN  \n",
      "2                     11                   181    1776.0  \n",
      "3                     34                   209    1745.0  \n",
      "4                     10                   221    1863.0  \n",
      "..                   ...                   ...       ...  \n",
      "904                    0                     0    1688.0  \n",
      "905                    0                     0    1688.0  \n",
      "906                    0                     0    1688.0  \n",
      "907                    0                     0    1688.0  \n",
      "908                    0                     0       NaN  \n",
      "\n",
      "[909 rows x 11 columns]\n",
      "0      False\n",
      "1      False\n",
      "2      False\n",
      "3      False\n",
      "4      False\n",
      "       ...  \n",
      "904     True\n",
      "905     True\n",
      "906     True\n",
      "907     True\n",
      "908     True\n",
      "Name: TotalSteps, Length: 909, dtype: bool\n",
      "Mean TotalSteps: 7786.438763376932\n"
     ]
    }
   ],
   "source": [
    "###\n",
    "\n",
    "# Display name columns from each data set \n",
    "print(df_activity.columns, \"activity columns\")\n",
    "print(df_calories.columns,\"calories columns\")\n",
    "\n",
    "# Both DataFrames share ID and ActivityDate columns, we merge based on both\n",
    "df_merged = pd.merge(df_activity, df_calories, on=['ID', 'ActivityDate'], how='outer')\n",
    "print(df_merged)\n",
    "\n",
    "# Get the mean value of the merged dataset of the column TotalSteps\n",
    "# Because there are NaN values, we skip them to calculate the mean\n",
    "print(df_merged['TotalSteps'].isna())\n",
    "mean_total_steps = df_merged['TotalSteps'].mean(skipna=True)\n",
    "\n",
    "# Display the mean value of TotalSteps\n",
    "print(\"Mean TotalSteps:\", mean_total_steps)\n",
    "\n",
    "###"
   ]
  },
  {
   "cell_type": "markdown",
   "metadata": {},
   "source": [
    "3. **Concatenation** (*1 point*)\n",
    "\n",
    "    - The data of one additional participant exists in 'last_participant.csv'. Load this dataset and concatenate it with the merged dataset generated above\n",
    "    - Print out the mean \"TotalSteps\" again"
   ]
  },
  {
   "cell_type": "code",
   "execution_count": 4,
   "metadata": {},
   "outputs": [
    {
     "name": "stdout",
     "output_type": "stream",
     "text": [
      "           ID ActivityDate  TotalSteps  TotalDistance  VeryActiveDistance  \\\n",
      "0  8792009665   2016-12-04        2564           1.64                 0.0   \n",
      "1  8792009665   2016-04-13        1320           0.84                 0.0   \n",
      "2  8792009665   2016-04-14        1219           0.78                 0.0   \n",
      "\n",
      "   ModeratelyActiveDistance  LightActiveDistance  VeryActiveMinutes  \\\n",
      "0                       0.0                 1.64                  0   \n",
      "1                       0.0                 0.84                  0   \n",
      "2                       0.0                 0.78                  0   \n",
      "\n",
      "   FairlyActiveMinutes  LightlyActiveMinutes  Calories  \n",
      "0                    0                   116      2044  \n",
      "1                    0                    82      1934  \n",
      "2                    0                    84      1963   last_participant DataSet\n",
      "           ID ActivityDate  TotalSteps  TotalDistance  VeryActiveDistance  \\\n",
      "0  1503960366   2016-04-12     13162.0           8.50                1.88   \n",
      "1  1503960366   2016-04-13     10735.0           6.97                1.57   \n",
      "2  1503960366   2016-04-14     10460.0           6.74                2.44   \n",
      "\n",
      "   ModeratelyActiveDistance  LightActiveDistance  VeryActiveMinutes  \\\n",
      "0                      0.55                 6.06                 25   \n",
      "1                      0.69                 4.71                 21   \n",
      "2                      0.40                 3.91                 30   \n",
      "\n",
      "   FairlyActiveMinutes  LightlyActiveMinutes  Calories  \n",
      "0                   13                   328    1985.0  \n",
      "1                   19                   217       NaN  \n",
      "2                   11                   181    1776.0   DataFrame contatenated\n",
      "Mean TotalSteps: 7879.460599334073\n"
     ]
    }
   ],
   "source": [
    "###\n",
    "\n",
    "# Load the last_participan dataset\n",
    "df_last_participant = pd.read_csv('./data/last_participant.csv')\n",
    "# Standardize the ActivityDate column\n",
    "df_last_participant['ActivityDate'] = pd.to_datetime(df_last_participant[\"ActivityDate\"],  format='mixed')\n",
    "# Display the first 3 lines of the dataset \n",
    "print(df_last_participant.head(3), \"last_participant DataSet\")\n",
    "\n",
    "# Concatenate df_merged from the previous task with the last_participant dataset\n",
    "df_concatenated = pd.concat([df_merged,df_last_participant])\n",
    "# Display the first 3 lines of concatenated DataFrame\n",
    "print(df_concatenated.head(3), \"DataFrame contatenated\")\n",
    "\n",
    "# Get the mean of TotalSteps from the concatenated data \n",
    "mean_total_steps_merged = df_concatenated['TotalSteps'].mean()\n",
    "print(\"Mean TotalSteps:\", mean_total_steps_merged)\n",
    "\n",
    "# # Check the mean of TotalSteps from the solution file\n",
    "# df_combine_solution = pd.read_csv('combined_solution.csv')\n",
    "# mean_total_steps_solution = df_combine_solution['TotalSteps'].mean()\n",
    "# print(\"Mean TotalSteps:\", mean_total_steps_solution)\n",
    "\n",
    "###"
   ]
  },
  {
   "cell_type": "markdown",
   "metadata": {},
   "source": [
    "<h3 style=\"text-align:left;\">Exercise 2 - Working with missing data<span style=\"float: right\">5 points</span></h3>"
   ]
  },
  {
   "cell_type": "markdown",
   "metadata": {},
   "source": [
    "In our dataset, some values are missing from the 'TotalSteps' and 'Calories' columns.\n",
    "\n",
    "We can try to approximate these missing values with the data we got. \n",
    "\n",
    "You can load the dataset 'combined_solution.csv' if you were unable to complete the previous exercise."
   ]
  },
  {
   "cell_type": "markdown",
   "metadata": {},
   "source": [
    "1. **Filling in missing values** (*3 points*)\n",
    "\n",
    "    - Calculate the mean steps per calory burnt and mean calories burnt per step, by averaging across all observations in the dataset and then computing the ratio. Print out both values.\n",
    "    - Fill in the null values in the columns 'Calories' and 'TotalSteps' where possible. To fill the values you have to use the factors *\"TotalSteps/Calories\"* and *\"Calories/TotalSteps\"* calculated in the previous point, using one of the two information to fill the other.\n",
    "    - Print out the mean of the columns 'TotalSteps' and 'Calories' before and after filling the missing values."
   ]
  },
  {
   "cell_type": "code",
   "execution_count": 7,
   "metadata": {},
   "outputs": [
    {
     "name": "stdout",
     "output_type": "stream",
     "text": [
      "Mean steps before filling NaN: 7879.460599334073\n",
      "Mean calories before filling NaN: 2310.661987041037\n",
      "Mean steps per calorie: 3.4100446727062272\n",
      "Mean calories per step: 0.29325129022617624\n",
      "Mean total steps after fill: 7785.911198419612\n",
      "Mean total calories after fill: 2302.939349901768\n"
     ]
    }
   ],
   "source": [
    "##\n",
    "\n",
    "# Create a copy to compare then missing values before and after filling\n",
    "df_filled = df_concatenated.copy()\n",
    "\n",
    "# Calculate the mean steps and calories\n",
    "mean_total_steps = df_filled[\"TotalSteps\"].mean()\n",
    "mean_total_calories = df_filled[\"Calories\"].mean()\n",
    "\n",
    "# Display means before filling NaN values\n",
    "print(\"Mean steps before filling NaN:\", mean_total_steps)\n",
    "print(\"Mean calories before filling NaN:\", mean_total_calories)\n",
    "\n",
    "# Calculate the mean steps per calorie burnt and mean calories per step\n",
    "mean_steps_per_calorie = mean_total_steps / mean_total_calories\n",
    "print(\"Mean steps per calorie:\", mean_steps_per_calorie)\n",
    "mean_calories_per_step = mean_total_calories / mean_total_steps\n",
    "print(\"Mean calories per step:\", mean_calories_per_step)\n",
    "\n",
    "# Fill the values in columns calories and total steps with each factor with fillna()\n",
    "df_filled[\"Calories\"] = df_filled[\"Calories\"].fillna(df_filled[\"TotalSteps\"] / mean_steps_per_calorie)\n",
    "df_filled[\"TotalSteps\"] = df_filled[\"TotalSteps\"].fillna(df_filled[\"Calories\"] / mean_calories_per_step)\n",
    "\n",
    "# Display means after filling values\n",
    "mean_total_steps_after_fill = df_filled[\"TotalSteps\"].mean()\n",
    "print(\"Mean total steps after fill:\", mean_total_steps_after_fill)\n",
    "mean_total_calories_after_fill = df_filled[\"Calories\"].mean()\n",
    "print(\"Mean total calories after fill:\", mean_total_calories_after_fill)\n"
   ]
  },
  {
   "cell_type": "markdown",
   "metadata": {},
   "source": [
    "2. **Dropping missing values** (*2 points*)\n",
    "\n",
    "    - Print how many null values there are in the 'Calories' and 'TotalSteps' columns, respectively.\n",
    "    - Drop the rows where **both** 'Calories' and 'TotalSteps' are missing.\n",
    "    - Print number of rows in the final dataset."
   ]
  },
  {
   "cell_type": "code",
   "execution_count": 8,
   "metadata": {},
   "outputs": [
    {
     "name": "stdout",
     "output_type": "stream",
     "text": [
      "Total NaN in Calories: 13\n",
      "Total NaN in TotalSteps: 13\n",
      "            ID ActivityDate  TotalSteps  TotalDistance  VeryActiveDistance  \\\n",
      "0   1503960366   2016-04-12     13162.0       8.500000                1.88   \n",
      "1   1503960366   2016-04-13     10735.0       6.970000                1.57   \n",
      "2   1503960366   2016-04-14     10460.0       6.740000                2.44   \n",
      "3   1503960366   2016-04-15      9762.0       6.280000                2.14   \n",
      "4   1503960366   2016-04-16     12669.0       8.160000                2.71   \n",
      "..         ...          ...         ...            ...                 ...   \n",
      "55  8877689391   2016-08-05     10686.0       8.110000                1.08   \n",
      "56  8877689391   2016-09-05     20226.0      18.250000               11.10   \n",
      "57  8877689391   2016-10-05     10733.0       8.150000                1.35   \n",
      "58  8877689391   2016-11-05     21420.0      19.559999               13.22   \n",
      "59  8877689391   2016-12-05      8064.0       6.120000                1.82   \n",
      "\n",
      "    ModeratelyActiveDistance  LightActiveDistance  VeryActiveMinutes  \\\n",
      "0                       0.55                 6.06                 25   \n",
      "1                       0.69                 4.71                 21   \n",
      "2                       0.40                 3.91                 30   \n",
      "3                       1.26                 2.83                 29   \n",
      "4                       0.41                 5.04                 36   \n",
      "..                       ...                  ...                ...   \n",
      "55                      0.20                 6.80                 17   \n",
      "56                      0.80                 6.24                 73   \n",
      "57                      0.46                 6.28                 18   \n",
      "58                      0.41                 5.89                 88   \n",
      "59                      0.04                 4.25                 23   \n",
      "\n",
      "    FairlyActiveMinutes  LightlyActiveMinutes     Calories  \n",
      "0                    13                   328  1985.000000  \n",
      "1                    19                   217  3148.052601  \n",
      "2                    11                   181  1776.000000  \n",
      "3                    34                   209  1745.000000  \n",
      "4                    10                   221  1863.000000  \n",
      "..                  ...                   ...          ...  \n",
      "55                    4                   245  2847.000000  \n",
      "56                   19                   217  3710.000000  \n",
      "57                   11                   224  2832.000000  \n",
      "58                   12                   213  3832.000000  \n",
      "59                    1                   137  1849.000000  \n",
      "\n",
      "[956 rows x 11 columns]\n",
      "Number of rows before dropping NaN: 969\n",
      "Number of rows of the final dataset: 956\n"
     ]
    }
   ],
   "source": [
    "###\n",
    "\n",
    "# Display NaN values in calories and TotalSteps\n",
    "calories_na = df_filled[\"Calories\"].isna().sum()\n",
    "print(\"Total NaN in Calories:\", calories_na)\n",
    "\n",
    "total_steps_na = df_filled[\"TotalSteps\"].isna().sum()\n",
    "print(\"Total NaN in TotalSteps:\", total_steps_na)\n",
    "\n",
    "# Drop rowa of both calories and TotalSteps for all rows (axis 0)\n",
    "df_drop_na = df_filled.dropna(subset=[\"Calories\", \"TotalSteps\"], how=\"all\", axis=0)\n",
    "print(df_drop_na)\n",
    "\n",
    "# Check the final number of row with len()\n",
    "print(\"Number of rows before dropping NaN:\",len(df_filled))\n",
    "print(\"Number of rows of the final dataset:\", len(df_drop_na))\n",
    "\n",
    "\n",
    "###"
   ]
  },
  {
   "cell_type": "markdown",
   "metadata": {},
   "source": [
    "<h3 style=\"text-align:left;\">Exercise 3 - Multi-index<span style=\"float: right\">7 points</span></h3>"
   ]
  },
  {
   "cell_type": "markdown",
   "metadata": {},
   "source": [
    "In this exercise you will create and manipulate a multi-index dataframe. First, let's create the dataframe for the exercise:"
   ]
  },
  {
   "cell_type": "code",
   "execution_count": 7,
   "metadata": {},
   "outputs": [],
   "source": [
    "import pandas as pd\n",
    "\n",
    "df = pd.DataFrame(\n",
    "    {\n",
    "        \"idx\": [0, 1, 2],\n",
    "        \"A_X\": [1.1, 1.1, 1.1],\n",
    "        \"A_Y\": [1.2, 1.2, 1.2],\n",
    "        \"B_X\": [1.11, 1.11, 1.11],\n",
    "        \"B_Y\": [1.22, 1.22, 1.22],\n",
    "    }\n",
    ")"
   ]
  },
  {
   "cell_type": "markdown",
   "metadata": {},
   "source": [
    "1. Set the column *idx* as the index of the dataframe. (*1 point*)"
   ]
  },
  {
   "cell_type": "code",
   "execution_count": 8,
   "metadata": {},
   "outputs": [
    {
     "name": "stdout",
     "output_type": "stream",
     "text": [
      "   idx  A_X  A_Y   B_X   B_Y\n",
      "0    0  1.1  1.2  1.11  1.22\n",
      "1    1  1.1  1.2  1.11  1.22\n",
      "2    2  1.1  1.2  1.11  1.22\n"
     ]
    },
    {
     "data": {
      "text/html": [
       "<div>\n",
       "<style scoped>\n",
       "    .dataframe tbody tr th:only-of-type {\n",
       "        vertical-align: middle;\n",
       "    }\n",
       "\n",
       "    .dataframe tbody tr th {\n",
       "        vertical-align: top;\n",
       "    }\n",
       "\n",
       "    .dataframe thead th {\n",
       "        text-align: right;\n",
       "    }\n",
       "</style>\n",
       "<table border=\"1\" class=\"dataframe\">\n",
       "  <thead>\n",
       "    <tr style=\"text-align: right;\">\n",
       "      <th></th>\n",
       "      <th>A_X</th>\n",
       "      <th>A_Y</th>\n",
       "      <th>B_X</th>\n",
       "      <th>B_Y</th>\n",
       "    </tr>\n",
       "    <tr>\n",
       "      <th>idx</th>\n",
       "      <th></th>\n",
       "      <th></th>\n",
       "      <th></th>\n",
       "      <th></th>\n",
       "    </tr>\n",
       "  </thead>\n",
       "  <tbody>\n",
       "    <tr>\n",
       "      <th>0</th>\n",
       "      <td>1.1</td>\n",
       "      <td>1.2</td>\n",
       "      <td>1.11</td>\n",
       "      <td>1.22</td>\n",
       "    </tr>\n",
       "    <tr>\n",
       "      <th>1</th>\n",
       "      <td>1.1</td>\n",
       "      <td>1.2</td>\n",
       "      <td>1.11</td>\n",
       "      <td>1.22</td>\n",
       "    </tr>\n",
       "    <tr>\n",
       "      <th>2</th>\n",
       "      <td>1.1</td>\n",
       "      <td>1.2</td>\n",
       "      <td>1.11</td>\n",
       "      <td>1.22</td>\n",
       "    </tr>\n",
       "  </tbody>\n",
       "</table>\n",
       "</div>"
      ],
      "text/plain": [
       "     A_X  A_Y   B_X   B_Y\n",
       "idx                      \n",
       "0    1.1  1.2  1.11  1.22\n",
       "1    1.1  1.2  1.11  1.22\n",
       "2    1.1  1.2  1.11  1.22"
      ]
     },
     "execution_count": 8,
     "metadata": {},
     "output_type": "execute_result"
    }
   ],
   "source": [
    "###\n",
    "\n",
    "# Display the DataFrame created\n",
    "print(df)\n",
    "\n",
    "# Set column idx as index with set_index\n",
    "df_indexed = df.set_index([\"idx\"])\n",
    "# Display the the DataSet with the change\n",
    "df_indexed\n",
    "\n",
    "###"
   ]
  },
  {
   "cell_type": "markdown",
   "metadata": {},
   "source": [
    "2. Create a multi-column stucture. (*3 points*)\n",
    "    - Set the columns *A, B* on the first level and *X, Y* on the second level, taken from the combinations in the original dataframe. \n",
    "    - Set the names of the two new levels as \"L1\" and \"L2\", respectively. \n",
    "    - Print the resulting dataframe."
   ]
  },
  {
   "cell_type": "code",
   "execution_count": 9,
   "metadata": {},
   "outputs": [
    {
     "name": "stdout",
     "output_type": "stream",
     "text": [
      "L1     A          B      \n",
      "L2     X    Y     X     Y\n",
      "idx                      \n",
      "0    1.1  1.2  1.11  1.22\n",
      "1    1.1  1.2  1.11  1.22\n",
      "2    1.1  1.2  1.11  1.22\n",
      "\n",
      "Index(['A', 'B'], dtype='object', name='L1') first level\n",
      "Index(['X', 'Y'], dtype='object', name='L2') second level\n"
     ]
    }
   ],
   "source": [
    "###\n",
    "\n",
    "# Create a multi-column structure from tuples where level 0 (first level) is A, B, and level 1 (second level) corresponds to X and Y values.\n",
    "# then, assign corresponding values of X and Y to each level and \n",
    "# assign names L1 and L2 to the levels respectively.\n",
    "# get names from preexisting df, not to type it by hand\n",
    "level1 = df_indexed.columns.str.split('_').str[0].unique()\n",
    "level2 = df_indexed.columns.str.split('_').str[1].unique()\n",
    "\n",
    "# Create a MultiIndex\n",
    "multi_index = pd.MultiIndex.from_product([level1, level2], names=['L1', 'L2'])\n",
    "\n",
    "# Assign the MultiIndex to the DataFrame columns\n",
    "df_indexed.columns = multi_index\n",
    "# Display the resulting dataframe\n",
    "print(df_indexed)\n",
    "\n",
    "\n",
    "# Check the name of column levels \n",
    "print()\n",
    "print(df_indexed.columns.levels[0], \"first level\")\n",
    "print(df_indexed.columns.levels[1], \"second level\")\n",
    "###"
   ]
  },
  {
   "cell_type": "markdown",
   "metadata": {},
   "source": [
    "3. From the previous dataframe, re-create a dataframe with a single column level. (*3 points*)\n",
    "    - Create a new column from the first level (L1) of the multi-column. At this point your columns should be ['L1', 'X', 'Y'], with name 'L2'. **NB** The DataFrame method *reset_index* is useful for this part.\n",
    "    - Rename the newly-created column as \"letter\" and the name of the column level as \"L\". Use the appropiate pandas methods for this.\n",
    "    - Print the resulting dataframe."
   ]
  },
  {
   "cell_type": "code",
   "execution_count": 15,
   "metadata": {},
   "outputs": [
    {
     "name": "stdout",
     "output_type": "stream",
     "text": [
      "DataFrame with new column created\n",
      "L2         X     Y\n",
      "idx L1            \n",
      "0   A   1.10  1.20\n",
      "    B   1.11  1.22\n",
      "1   A   1.10  1.20\n",
      "    B   1.11  1.22\n",
      "2   A   1.10  1.20\n",
      "    B   1.11  1.22\n",
      "\n",
      "DataFrame with single level\n",
      "L2  idx L1     X     Y\n",
      "0     0  A  1.10  1.20\n",
      "1     0  B  1.11  1.22\n",
      "2     1  A  1.10  1.20\n",
      "3     1  B  1.11  1.22\n",
      "4     2  A  1.10  1.20\n",
      "5     2  B  1.11  1.22\n",
      "\n",
      "Previous column names:  ['L2']\n",
      "DataFrame with single level and renamed columns\n",
      "L  idx letter     X     Y\n",
      "0    0      A  1.10  1.20\n",
      "1    0      B  1.11  1.22\n",
      "2    1      A  1.10  1.20\n",
      "3    1      B  1.11  1.22\n",
      "4    2      A  1.10  1.20\n",
      "5    2      B  1.11  1.22\n"
     ]
    }
   ],
   "source": [
    "###\n",
    "\n",
    "# Create a new column from the 'L1', which is level 0 in the DataFrame, using stack\n",
    "df_stacked = df_indexed.stack(level=0)\n",
    "print(\"DataFrame with new column created\")\n",
    "print(df_stacked)\n",
    "print()\n",
    "# and then convert the created column to a single column level \n",
    "df_single_level = df_stacked.reset_index()\n",
    "print(\"DataFrame with single level\")\n",
    "print(df_single_level)\n",
    "print()\n",
    "\n",
    "# Rename the column 'L1' to letter\n",
    "df_single_level = df_single_level.rename(columns={'L1': 'letter'})\n",
    "# Rename 'L2' to 'L1'\n",
    "print(\"Previous column names: \", df_single_level.columns.names)\n",
    "df_single_level.columns.names = ['L']\n",
    "\n",
    "# Display the resulting DataFrame\n",
    "print(\"DataFrame with single level and renamed columns\")\n",
    "print(df_single_level)\n",
    "\n",
    "###"
   ]
  }
 ],
 "metadata": {
  "kernelspec": {
   "display_name": "dash",
   "language": "python",
   "name": "python3"
  },
  "language_info": {
   "codemirror_mode": {
    "name": "ipython",
    "version": 3
   },
   "file_extension": ".py",
   "mimetype": "text/x-python",
   "name": "python",
   "nbconvert_exporter": "python",
   "pygments_lexer": "ipython3",
   "version": "3.11.5"
  }
 },
 "nbformat": 4,
 "nbformat_minor": 2
}
