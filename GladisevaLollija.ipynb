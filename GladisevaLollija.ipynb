{
 "cells": [
  {
   "cell_type": "markdown",
   "metadata": {},
   "source": [
    "<h2><center>Week 1 - Assignment</center></h2>\n",
    "<h3><center>Programming for Data Science 2024</center></h3>"
   ]
  },
  {
   "cell_type": "markdown",
   "metadata": {},
   "source": [
    "Exercises for the topics covered in the first lecture.\n",
    "\n",
    "The exercise will be marked as passed if you get **at least 10/15** points.\n",
    "\n",
    "Exercises must be handed in via **ILIAS** (Homework assignments). Deliver your submission as a compressed file (zip) containing one .py or .ipynb file with all exercises. The name of both the .zip and the .py/.ipynb file must be *SurnameName* of the two members of the group. Example: Riccardo Cusinato + Athina Tzovara = *CusinatoRiccardo_TzovaraAthina.zip* .\n",
    "\n",
    "It's important to use comments to explain your code and show that you're able to take ownership of the exercises and discuss them.\n",
    "\n",
    "You are not expected to collaborate outside of the group on exercises and submitting other groups’ code as your own will result in 0 points.\n",
    "\n",
    "For questions contact: *riccardo.cusinato@unibe.ch* with the subject: *Programming for Data Science 2024*.\n",
    "\n",
    "**Deadline: 14:00, February 29, 2024.**"
   ]
  },
  {
   "cell_type": "markdown",
   "metadata": {},
   "source": [
    "<h3 style=\"text-align:left;\">Exercise 1 - Indentation<span style=\"float: right\">1 point</span></h3>"
   ]
  },
  {
   "cell_type": "markdown",
   "metadata": {},
   "source": [
    "Fix the indentation in the following code. Output should be ”[0, 1, 2]”."
   ]
  },
  {
   "cell_type": "code",
   "execution_count": 3,
   "metadata": {},
   "outputs": [
    {
     "name": "stdout",
     "output_type": "stream",
     "text": [
      "[0, 1, 2]\n"
     ]
    }
   ],
   "source": [
    "N_max = 5\n",
    "n = 0\n",
    "n_list = []\n",
    "\n",
    "for n in range(N_max):\n",
    "    if n < 3:\n",
    "        n_list.append(n)\n",
    "\n",
    "print(n_list)"
   ]
  },
  {
   "cell_type": "markdown",
   "metadata": {},
   "source": [
    "<h3 style=\"text-align:left;\">Exercise 2 - Python variables<span style=\"float: right\">1 point</span></h3>"
   ]
  },
  {
   "cell_type": "markdown",
   "metadata": {},
   "source": [
    "In class, you've seen how Python variables are internally stored. Given the following piece of code, what do you expect to happen? Why? How can you check where the two lists are stored in memory? Comment and write additional code."
   ]
  },
  {
   "cell_type": "code",
   "execution_count": 7,
   "metadata": {},
   "outputs": [
    {
     "name": "stdout",
     "output_type": "stream",
     "text": [
      "[1, 2, 3, 4]\n",
      "4592553984\n",
      "4592553984\n"
     ]
    }
   ],
   "source": [
    "# Define two lists\n",
    "list1 = [1, 2, 3]\n",
    "list2 = list1\n",
    "\n",
    "# Append\n",
    "list2.append(4)\n",
    "\n",
    "# list data type in python is mutable\n",
    "# variables list1 and list2 are pointing to the same list\n",
    "# so when we append 4, we append it to the same object that two variables are pointing\n",
    "print(list1)\n",
    "\n",
    "# to check where lists are stored an memory we need id() function\n",
    "# and in this case id will be same for list1 and list2\n",
    "print(id(list1))\n",
    "print(id(list2))"
   ]
  },
  {
   "cell_type": "markdown",
   "metadata": {},
   "source": [
    "What is the difference between the following list *lst* and tuple *tpl*? Comment."
   ]
  },
  {
   "cell_type": "code",
   "execution_count": 12,
   "metadata": {},
   "outputs": [],
   "source": [
    "lst = [1, 2, 3]\n",
    "tpl = (1, 2, 3)\n",
    "\n",
    "# tuples are immutable objects the lists are mutable\n",
    "# on the list we could use append on tuple not\n",
    "\n"
   ]
  },
  {
   "cell_type": "markdown",
   "metadata": {},
   "source": [
    "<h3 style=\"text-align:left;\">Exercise 2 - List intersection<span style=\"float: right\">2 points</span></h3>"
   ]
  },
  {
   "cell_type": "markdown",
   "metadata": {},
   "source": [
    "Write a program that takes two lists, and returns another list with the elements common to both of them. Example:\n",
    "```python \n",
    "list1 = [1, 2, 3]\n",
    "list2 = [3, 4, 5]\n",
    "output = [3]\n",
    "```\n",
    "Additionally,\n",
    "- Write the code as a function called *lists_intersection* that takes two lists as input as gives the intersection list as output."
   ]
  },
  {
   "cell_type": "code",
   "execution_count": 36,
   "metadata": {},
   "outputs": [
    {
     "name": "stdout",
     "output_type": "stream",
     "text": [
      "[3]\n"
     ]
    }
   ],
   "source": [
    "list1 = [1,2,3]\n",
    "list2 = [3,4,5]\n",
    "def list_intersection(list1, list2):\n",
    "    intersection = []\n",
    "    # iterating over elements in list 1 and list 2\n",
    "    for element_i in list1:\n",
    "        for element_j in list2:\n",
    "            if element_i==element_j:\n",
    "                # if they are equal, save an element in a list\n",
    "                intersection.append(element_i)\n",
    "    # print result\n",
    "    return intersection\n",
    "\n",
    "# call a function                \n",
    "print(list_intersection(list1, list2))"
   ]
  },
  {
   "cell_type": "markdown",
   "metadata": {},
   "source": [
    "<h3 style=\"text-align:left;\">Exercise 3 - Strings filter<span style=\"float: right\">3 points</span></h3>"
   ]
  },
  {
   "cell_type": "markdown",
   "metadata": {},
   "source": [
    "Write a function named *strings_filter* that takes a list of strings and a number and returns another list with only the strings *shorter* than that number. Example:\n",
    "```python \n",
    "strings_filter([\"Python\", \"hello\", \"C++\"], 4)   # returns [\"C++\"]\n",
    "strings_filter([\"Python\", \"hello\", \"C++\"], 6)   # returns [\"hello\", \"C++\"]\n",
    "```\n",
    "Hint: you can accomplish this using a for loop."
   ]
  },
  {
   "cell_type": "code",
   "execution_count": 24,
   "metadata": {},
   "outputs": [
    {
     "name": "stdout",
     "output_type": "stream",
     "text": [
      "['C++']\n",
      "['hello', 'C++']\n"
     ]
    }
   ],
   "source": [
    "def strings_filter(list_of_strings, number_of_characters):\n",
    "    selected_strings = []\n",
    "    # iterate over each string in a a list\n",
    "    for string in list_of_strings:\n",
    "        # compare if the string length is smaller than number_of_characters passed as a parameter\n",
    "        if len(string) < number_of_characters:\n",
    "            # if yes, append to the array to store\n",
    "            selected_strings.append(string)\n",
    "\n",
    "    print(selected_strings)\n",
    "\n",
    "# call the function\n",
    "strings_filter([\"Python\", \"hello\", \"C++\"], 4)   # returns [\"C++\"]\n",
    "strings_filter([\"Python\", \"hello\", \"C++\"], 6)   # returns [\"hello\", \"C++\"]"
   ]
  },
  {
   "cell_type": "markdown",
   "metadata": {},
   "source": [
    "<h3 style=\"text-align:left;\">Exercise 4 - Leap years on Mars<span style=\"float: right\">4 points</span></h3>"
   ]
  },
  {
   "cell_type": "markdown",
   "metadata": {},
   "source": [
    "2024 is a leap year on Earth, meaning a year has one more day (29th of February). On Earth, leap years are those that are divisible by 4 (like 2024, 2028, etc.). \n",
    "\n",
    "On Mars, instead, leap years are those divisible by 6 (like 2028, 2034, etc.), with some exceptions:\n",
    "- if a year is divisible by 120 (e.g. 1680) or 36 (e.g. 2016), it's *not* a leap year.\n",
    "- however, if the year is divisible by 600 (e.g. 1800), it *is* a leap year, independently of the previous condition.\n",
    "\n",
    "Your task is to write a function named *is_leap_year* that asks the user to input a year, and returns True if it is a leap year on Mars, False otherwise. Example:\n",
    "```python\n",
    "is_leap_year(2028)  # returns True\n",
    "is_leap_year(2024)  # returns False (not divisible by 6)\n",
    "is_leap_year(1680)  # returns False (divisible by 120)\n",
    "is_leap_year(1800)  # returns True (divisible by 600)\n",
    "is_leap_year(2016)  # returns False (is divisible by 36)\n",
    "```\n",
    "N.B. The return type must be *boolean*.\n",
    "\n",
    "Additionally:\n",
    "- add a constrain that prints \"Can't calculate leap year\" if the given year is before 0 or after 5000."
   ]
  },
  {
   "cell_type": "code",
   "execution_count": 30,
   "metadata": {},
   "outputs": [
    {
     "name": "stdout",
     "output_type": "stream",
     "text": [
      "True\n",
      "False\n",
      "True\n",
      "True\n",
      "True\n",
      "Can't calculate leap year\n",
      "Can't calculate leap year\n"
     ]
    }
   ],
   "source": [
    "def is_leap_year(year):\n",
    "    # first check for the constraint, no need to execute other parts of the code if the condition not met\n",
    "    if year < 0 or year > 5000:\n",
    "        return \"Can't calculate leap year\"\n",
    "    # check this condition first cause it could be true also for other conditions\n",
    "    elif year % 600 == 0:\n",
    "        return True\n",
    "    elif (year % 120 != 0) or (year % 36 != 0):\n",
    "        if year % 6 == 0:\n",
    "            return True\n",
    "        else:\n",
    "            return False\n",
    "    else:\n",
    "        #this false will be returned for: \n",
    "        #cases when year is divisible by 120 and 36 and all other cases\n",
    "        return False\n",
    "\n",
    "# call the function with arguments provided\n",
    "print(is_leap_year(2028))  # returns True\n",
    "print(is_leap_year(2024))  # returns False (not divisible by 6)\n",
    "print(is_leap_year(1680))  # returns False (divisible by 120)\n",
    "print(is_leap_year(1800))  # returns True (divisible by 600)\n",
    "print(is_leap_year(2016))  # returns False (is divisible by 36)  \n",
    "\n",
    "# call the function to check if a constraint is working\n",
    "print(is_leap_year(-1))\n",
    "print(is_leap_year(5001))"
   ]
  },
  {
   "cell_type": "markdown",
   "metadata": {},
   "source": [
    "<h3 style=\"text-align:left;\">Exercise 5 - Number divisors<span style=\"float: right\">4 points</span></h3>"
   ]
  },
  {
   "cell_type": "markdown",
   "metadata": {},
   "source": [
    "A divisor of a number, is another number that divides the first number without reminder, e.g. 4 is a divisor of 20. 1 and the number itself are always divisors. \n",
    "\n",
    "Write a function named *find_divisors* that takes a number in input and returns *all* its divisors. Example:\n",
    "```python \n",
    "find_divisors(20)  # returns [1, 2, 4, 5, 10, 20]\n",
    "find_divisors(7)  # returns [1, 7]\n",
    "```\n",
    "Additionally:\n",
    "- write a second version of the function called *find_common_divisors* that takes two numbers and returns all the *common* divisors. Example:\n",
    "```python \n",
    "find_common_divisors(20, 30)  # returns [1, 2, 5, 10]\n",
    "find_common_divisors(5, 7)  # returns [1]\n",
    "```\n",
    "Hint: exploit the previous function *find_divisors* to build this one."
   ]
  },
  {
   "cell_type": "code",
   "execution_count": 1,
   "metadata": {},
   "outputs": [
    {
     "name": "stdout",
     "output_type": "stream",
     "text": [
      "[1, 2, 4, 5, 10, 20]\n",
      "[1, 7]\n",
      "[1, 2, 5, 10]\n",
      "[1]\n"
     ]
    }
   ],
   "source": [
    "# previously defined function, just copying it here, in case the order of execution of tasks will be different\n",
    "def list_intersection(list1, list2):\n",
    "    intersection = []\n",
    "    # iterating over elements in list 1 and list 2\n",
    "    for element_i in list1:\n",
    "        for element_j in list2:\n",
    "            if element_i==element_j:\n",
    "                # if they are equal, save an element in a list\n",
    "                intersection.append(element_i)\n",
    "    # print result\n",
    "    return intersection\n",
    "\n",
    "def find_divisors(number):\n",
    "    divisors = []\n",
    "    # range(x,y) returns sequence from x to y-1\n",
    "    # thets why we add here +1\n",
    "    for n in range(1, number+1):\n",
    "        # here we look for a division without reminder\n",
    "        if number % n == 0:\n",
    "            # if true save them in a list\n",
    "            divisors.append(n)\n",
    "    return divisors\n",
    "\n",
    "# call a function\n",
    "print(find_divisors(20))  # returns [1, 2, 4, 5, 10, 20]\n",
    "print(find_divisors(7))  # returns [1, 7]\n",
    "\n",
    "def find_common_divisors(number1, number2):\n",
    "    # here we are using the previously defined function to find divisors, to follow DRY\n",
    "    divisors1 = find_divisors(number1)\n",
    "    divisors2 =  find_divisors(number2)\n",
    "    # here we are using the previously defined function to find intersection, to follow DRY\n",
    "    return list_intersection(divisors1, divisors2)\n",
    "\n",
    "print(find_common_divisors(20, 30))  # returns [1, 2, 5, 10]\n",
    "print(find_common_divisors(5, 7))  # returns [1]\n",
    "\n",
    "    "
   ]
  },
  {
   "cell_type": "code",
   "execution_count": null,
   "metadata": {},
   "outputs": [],
   "source": []
  }
 ],
 "metadata": {
  "kernelspec": {
   "display_name": "dash",
   "language": "python",
   "name": "python3"
  },
  "language_info": {
   "codemirror_mode": {
    "name": "ipython",
    "version": 3
   },
   "file_extension": ".py",
   "mimetype": "text/x-python",
   "name": "python",
   "nbconvert_exporter": "python",
   "pygments_lexer": "ipython3",
   "version": "3.12.0"
  }
 },
 "nbformat": 4,
 "nbformat_minor": 2
}
