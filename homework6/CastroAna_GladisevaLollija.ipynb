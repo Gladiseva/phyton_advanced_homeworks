{
 "cells": [
  {
   "cell_type": "markdown",
   "metadata": {},
   "source": [
    "<h2><center>Week 6 - Assignment</center></h2>\n",
    "<h3><center>Programming for Data Science 2024</center></h3>"
   ]
  },
  {
   "cell_type": "markdown",
   "metadata": {},
   "source": [
    "Exercises for the topics covered in the sixth lecture.\n",
    "\n",
    "The exercise will be marked as passed if you get **at least 10/15** points.\n",
    "\n",
    "Exercises must be handed in via **ILIAS** (Homework assignments). Deliver your submission as a compressed file (zip) containing one .py or .ipynb file with all exercises. The name of both the .zip and the .py/.ipynb file **must** be *SurnameName* of the two members of the group. Example: Riccardo Cusinato + Athina Tzovara = *CusinatoRiccardo_TzovaraAthina.zip* .\n",
    "\n",
    "It's important to use comments to explain your code and show that you're able to take ownership of the exercises and discuss them.\n",
    "\n",
    "You are not expected to collaborate outside of the group on exercises and submitting other groups’ code as your own will result in 0 points.\n",
    "\n",
    "For questions contact: *riccardo.cusinato@unibe.ch* with the subject: *Programming for Data Science 2024*.\n",
    "\n",
    "**Deadline: 14:00, April 11, 2024.**"
   ]
  },
  {
   "cell_type": "markdown",
   "metadata": {},
   "source": [
    "<h3 style=\"text-align:left;\">Exercise 1 - World Happiness Report<span style=\"float: right\">8 points</span></h3>"
   ]
  },
  {
   "cell_type": "markdown",
   "metadata": {},
   "source": [
    "You will find the CSV files *report.csv* and *region.csv* in the data folder for this assignment (Credit: https://www.kaggle.com/ajaypalsinghlo/world-happiness-report-2021).\n",
    "\n",
    "1. Import the two *csv* files and save them in two variables called *df_report* and *df_region*. Create a new column \"region\" in the *df_report* dataframe by populating it with the correct region in the *df_region* dataframe. If a country does not exist in *df_region*, label it as \"unknown\" in *df_report*. Print *df_report* at the end. (*2 points*)\n",
    "\n",
    "**NB** If you are unable to do the exercise, you can use the file *report_region.csv* in the data folder for the next points."
   ]
  },
  {
   "cell_type": "code",
   "execution_count": 1,
   "metadata": {},
   "outputs": [
    {
     "name": "stdout",
     "output_type": "stream",
     "text": [
      "Equality Check, with the dataframe provided: True\n",
      "     Country name  year  Life Ladder  Log GDP per capita  Social support  \\\n",
      "0     Afghanistan  2008        3.724               7.370           0.451   \n",
      "1     Afghanistan  2009        4.402               7.540           0.552   \n",
      "2     Afghanistan  2010        4.758               7.647           0.539   \n",
      "3     Afghanistan  2011        3.832               7.620           0.521   \n",
      "4     Afghanistan  2012        3.783               7.705           0.521   \n",
      "...           ...   ...          ...                 ...             ...   \n",
      "1944     Zimbabwe  2016        3.735               7.984           0.768   \n",
      "1945     Zimbabwe  2017        3.638               8.016           0.754   \n",
      "1946     Zimbabwe  2018        3.616               8.049           0.775   \n",
      "1947     Zimbabwe  2019        2.694               7.950           0.759   \n",
      "1948     Zimbabwe  2020        3.160               7.829           0.717   \n",
      "\n",
      "      Healthy life expectancy at birth  Freedom to make life choices  \\\n",
      "0                                50.80                         0.718   \n",
      "1                                51.20                         0.679   \n",
      "2                                51.60                         0.600   \n",
      "3                                51.92                         0.496   \n",
      "4                                52.24                         0.531   \n",
      "...                                ...                           ...   \n",
      "1944                             54.40                         0.733   \n",
      "1945                             55.00                         0.753   \n",
      "1946                             55.60                         0.763   \n",
      "1947                             56.20                         0.632   \n",
      "1948                             56.80                         0.643   \n",
      "\n",
      "      Generosity  Perceptions of corruption  Positive affect  Negative affect  \\\n",
      "0          0.168                      0.882            0.518            0.258   \n",
      "1          0.190                      0.850            0.584            0.237   \n",
      "2          0.121                      0.707            0.618            0.275   \n",
      "3          0.162                      0.731            0.611            0.267   \n",
      "4          0.236                      0.776            0.710            0.268   \n",
      "...          ...                        ...              ...              ...   \n",
      "1944      -0.095                      0.724            0.738            0.209   \n",
      "1945      -0.098                      0.751            0.806            0.224   \n",
      "1946      -0.068                      0.844            0.710            0.212   \n",
      "1947      -0.064                      0.831            0.716            0.235   \n",
      "1948      -0.009                      0.789            0.703            0.346   \n",
      "\n",
      "      region  \n",
      "0       Asia  \n",
      "1       Asia  \n",
      "2       Asia  \n",
      "3       Asia  \n",
      "4       Asia  \n",
      "...      ...  \n",
      "1944  Africa  \n",
      "1945  Africa  \n",
      "1946  Africa  \n",
      "1947  Africa  \n",
      "1948  Africa  \n",
      "\n",
      "[1949 rows x 12 columns]\n"
     ]
    }
   ],
   "source": [
    "import pandas as pd \n",
    "\n",
    "df_report = pd.read_csv('./data/report.csv')\n",
    "df_region = pd.read_csv('./data/region.csv')\n",
    "\n",
    "# map country names and regions\n",
    "region_to_country_name = df_region.set_index('name')['region']\n",
    "\n",
    "df_report['region'] = df_report['Country name'].map(region_to_country_name)\n",
    "df_report['region'] = df_report['region'].fillna('unknown')\n",
    "\n",
    "# Read the expected DataFrame after region mapping and filling missing regions\n",
    "df_report_region_expected = pd.read_csv('./data/report_region.csv')\n",
    "\n",
    "# Check if the modified df_report is equal to the expected DataFrame\n",
    "equality_check = df_report.equals(df_report_region_expected)\n",
    "print(\"Equality Check, with the dataframe provided:\", equality_check)\n",
    "\n",
    "print(df_report)\n"
   ]
  },
  {
   "cell_type": "markdown",
   "metadata": {},
   "source": [
    "2. Calculate and print the median \"Healthy life expectancy at birth\" per region in the year 2019. (*2 point*)"
   ]
  },
  {
   "cell_type": "code",
   "execution_count": 20,
   "metadata": {},
   "outputs": [
    {
     "name": "stdout",
     "output_type": "stream",
     "text": [
      "median 'Healthy life expectancy at birth' per region in the year 2019:\n",
      "region\n",
      "Africa      56.90\n",
      "Americas    68.00\n",
      "Asia        66.05\n",
      "Europe      72.10\n",
      "Oceania     73.65\n",
      "unknown     58.50\n",
      "Name: Healthy life expectancy at birth, dtype: float64\n"
     ]
    }
   ],
   "source": [
    "# filter for year\n",
    "df_year_2019 = df_report[df_report['year'] == 2019]\n",
    "\n",
    "# calculate median  per region\n",
    "median_life_expectancy = df_year_2019.groupby('region')['Healthy life expectancy at birth'].median()\n",
    "\n",
    "print(\"median 'Healthy life expectancy at birth' per region in the year 2019:\")\n",
    "print(median_life_expectancy)"
   ]
  },
  {
   "cell_type": "markdown",
   "metadata": {},
   "source": [
    "3. Create a Pivot table with the median \"Healthy life expectancy at birth\" per region (index) per year (column) and print it. (*1 point*)"
   ]
  },
  {
   "cell_type": "code",
   "execution_count": 22,
   "metadata": {},
   "outputs": [
    {
     "name": "stdout",
     "output_type": "stream",
     "text": [
      "year       2005   2006    2007    2008    2009    2010   2011     2012   2013  \\\n",
      "region                                                                          \n",
      "Africa    59.70  46.57  47.420  49.560  50.640  52.300  52.24  54.4600  53.68   \n",
      "Americas  65.80  65.22  65.340  65.520  65.850  65.700  65.92  66.0400  66.36   \n",
      "Asia      63.50  64.05  62.760  63.140  64.220  64.400  64.60  64.1300  64.37   \n",
      "Europe    70.05  67.00  66.200  70.530  67.640  69.800  68.82  70.8400  69.80   \n",
      "Oceania   71.40  71.20  71.560  71.740     NaN  72.100  72.21  72.3200  72.43   \n",
      "unknown     NaN  65.23  64.095  62.015  62.132  65.601  54.58  59.8855  55.34   \n",
      "\n",
      "year       2014   2015  2016   2017  2018   2019   2020  \n",
      "region                                                   \n",
      "Africa    54.48  54.50  55.3  55.70  56.5  56.90  57.65  \n",
      "Americas  66.58  66.80  67.1  67.20  67.9  68.00  68.30  \n",
      "Asia      64.86  65.10  64.9  65.00  65.3  66.05  66.20  \n",
      "Europe    70.61  71.30  71.6  71.80  71.5  72.10  72.15  \n",
      "Oceania   72.54  72.65  72.9  73.15  73.4  73.65  73.90  \n",
      "unknown   55.72  56.10  56.7  57.30  57.9  58.50  65.56  \n"
     ]
    }
   ],
   "source": [
    "pivot_table = df_report.pivot_table(values='Healthy life expectancy at birth',\n",
    "                                    index='region',\n",
    "                                    columns='year',\n",
    "                                    aggfunc='median')\n",
    "print(pivot_table)"
   ]
  },
  {
   "cell_type": "markdown",
   "metadata": {},
   "source": [
    "4. Create a Pivot table (same structure as before) with the maximum \"Log GDP per capita\" per region per year and print it. In the resulting table, also add the overall values across years for each region, with the appropriate pandas method. (*1 point*)"
   ]
  },
  {
   "cell_type": "code",
   "execution_count": 28,
   "metadata": {},
   "outputs": [
    {
     "name": "stdout",
     "output_type": "stream",
     "text": [
      "year        2005    2006    2007    2008    2009    2010    2011    2012  \\\n",
      "region                                                                     \n",
      "Africa     9.036   9.492   9.426   9.590   9.414   9.556   9.767   9.842   \n",
      "Americas  10.652  10.924  10.933  10.922  10.888  10.905  10.913  10.928   \n",
      "Asia      10.699  11.367  11.212  11.178  11.456  11.520  11.553  11.523   \n",
      "Europe    10.851  11.050  10.891  11.042  11.562  11.592  11.595  11.567   \n",
      "Oceania   10.659  10.526  10.703  10.719     NaN  10.722  10.733  10.754   \n",
      "unknown      NaN  10.746   9.416  10.816  10.788  10.847  10.887  10.893   \n",
      "\n",
      "year        2013    2014    2015    2016    2017    2018    2019    2020  \\\n",
      "region                                                                     \n",
      "Africa     9.728   9.865   9.724   9.935   9.972  10.008  10.043   9.972   \n",
      "Americas  10.939  10.956  10.977  10.986  11.001  11.025  11.043  11.001   \n",
      "Asia      11.357  11.383  11.486  11.419  11.461  11.490  11.486  11.053   \n",
      "Europe    11.580  11.598  11.617  11.640  11.634  11.645  11.648  11.323   \n",
      "Oceania   10.762  10.772  10.779  10.791  10.798  10.811  10.815  10.760   \n",
      "unknown   10.750  10.940  10.842  10.970  11.000   9.677  11.000   9.690   \n",
      "\n",
      "year      overall  \n",
      "region             \n",
      "Africa     10.043  \n",
      "Americas   11.043  \n",
      "Asia       11.553  \n",
      "Europe     11.648  \n",
      "Oceania    10.815  \n",
      "unknown    11.000  \n"
     ]
    }
   ],
   "source": [
    "pivot_table_max_gdp = df_report.pivot_table(values='Log GDP per capita', \n",
    "                                             index='region', \n",
    "                                             columns='year', \n",
    "                                             aggfunc='max')\n",
    "\n",
    "# doing it this way, because with 'margins=True, margins_name='Overall' i was getting two margins\n",
    "# not just overall values across years for each region, but also per year for all regions\n",
    "overall_max_gdp = pivot_table_max_gdp.max(axis=1)\n",
    "pivot_table_max_gdp.loc[:, 'overall'] = overall_max_gdp\n",
    "\n",
    "print(pivot_table_max_gdp)"
   ]
  },
  {
   "cell_type": "markdown",
   "metadata": {},
   "source": [
    "5. Find the length of the shortest country name(s) in the dataset and print it, together with the actual countries (print just the unique occurrences!). Then, create a new column ”Short name”, where each country name is cut down to the length of the shortest country name. For instance, if the country with the shortest name is Germany (7 letters, and not true, just an example), ”Switzerland” would become ”Switzer”. (*2 points*)"
   ]
  },
  {
   "cell_type": "code",
   "execution_count": 42,
   "metadata": {},
   "outputs": [
    {
     "name": "stdout",
     "output_type": "stream",
     "text": [
      "Length of the shortest country name(s): 4\n",
      "countries with the shortest length: ['Chad' 'Cuba' 'Iran' 'Iraq' 'Laos' 'Mali' 'Oman' 'Peru' 'Togo']\n",
      "               Country name Short name\n",
      "0               Afghanistan       Afgh\n",
      "12                  Albania       Alba\n",
      "25                  Algeria       Alge\n",
      "33                   Angola       Ango\n",
      "37                Argentina       Arge\n",
      "52                  Armenia       Arme\n",
      "66                Australia       Aust\n",
      "80                  Austria       Aust\n",
      "93               Azerbaijan       Azer\n",
      "107                 Bahrain       Bahr\n",
      "118              Bangladesh       Bang\n",
      "133                 Belarus       Bela\n",
      "147                 Belgium       Belg\n",
      "161                  Belize       Beli\n",
      "163                   Benin       Beni\n",
      "175                  Bhutan       Bhut\n",
      "178                 Bolivia       Boli\n",
      "193  Bosnia and Herzegovina       Bosn\n"
     ]
    }
   ],
   "source": [
    "shortest_len = df_report['Country name'].str.len().min()\n",
    "print(f\"Length of the shortest country name(s): {shortest_len}\")\n",
    "\n",
    "# get countries with that length\n",
    "shortest_countries = df_report.loc[df_report['Country name'].str.len() == shortest_len, 'Country name'].unique()\n",
    "print(f\"countries with the shortest length: {shortest_countries}\")\n",
    "\n",
    "# new column with country name cut down to the length of the shortest country name\n",
    "df_report['Short name'] = df_report['Country name'].str.slice(0, shortest_len)\n",
    "\n",
    "# check output\n",
    "print(df_report.head(200).iloc[:, [0, 12]].drop_duplicates())\n"
   ]
  },
  {
   "cell_type": "markdown",
   "metadata": {},
   "source": [
    "<h3 style=\"text-align:left;\">Exercise 2 - Weather data<span style=\"float: right\">7 points</span></h3>"
   ]
  },
  {
   "cell_type": "markdown",
   "metadata": {},
   "source": [
    "In this exercise, you'll use the *weather.csv* dataset that contains UK weather data. The dataset has columns year and month describing which year and month a specific recording belongs to. (Credit: https://www.kaggle.com/josephw20/uk-met-office-weather-data)\n",
    "\n",
    "1. Import the dataset into a dataframe called *df_weather* and create a new column *datetime*, containing a datetime object for each row describing the year and month of the recording. The day can be set as the 1st of the month. Finally, print the dataframe. (*2 points*)\n",
    "\n",
    "**NB**  If you are unable to do this exercise, you can use the file *weather_datetime.csv* in the data folder for the next points."
   ]
  },
  {
   "cell_type": "code",
   "execution_count": 43,
   "metadata": {},
   "outputs": [
    {
     "name": "stdout",
     "output_type": "stream",
     "text": [
      "         year  month  tmax  tmin   af   rain    sun    station   datetime\n",
      "0      1941.0    1.0   NaN   NaN  NaN   74.7    NaN  aberporth 1941-01-01\n",
      "1      1941.0    2.0   NaN   NaN  NaN   69.1    NaN  aberporth 1941-02-01\n",
      "2      1941.0    3.0   NaN   NaN  NaN   76.2    NaN  aberporth 1941-03-01\n",
      "3      1941.0    4.0   NaN   NaN  NaN   33.7    NaN  aberporth 1941-04-01\n",
      "4      1941.0    5.0   NaN   NaN  NaN   51.3    NaN  aberporth 1941-05-01\n",
      "...       ...    ...   ...   ...  ...    ...    ...        ...        ...\n",
      "37044  2020.0    2.0  10.8   4.5  2.0  117.4   63.1  yeovilton 2020-02-01\n",
      "37045  2020.0    3.0  11.5   3.0  6.0   43.4  159.2  yeovilton 2020-03-01\n",
      "37046  2020.0    4.0  17.5   5.3  3.0   39.8  235.0  yeovilton 2020-04-01\n",
      "37047  2020.0    5.0  19.7   6.8  2.0    3.6  305.6  yeovilton 2020-05-01\n",
      "37048  2020.0    6.0  20.5  11.0  0.0  103.0  187.6  yeovilton 2020-06-01\n",
      "\n",
      "[37049 rows x 9 columns]\n"
     ]
    }
   ],
   "source": [
    "df_weather = pd.read_csv('./data/weather.csv')\n",
    "df_weather['datetime'] = pd.to_datetime(df_weather[['year', 'month']].assign(day=1))\n",
    "print(df_weather)"
   ]
  },
  {
   "cell_type": "markdown",
   "metadata": {},
   "source": [
    "2. Write a function *mean_rainfall* that takes in input the dataframe, the name of a weather station, the upper and lower bounds of a time interval and computes the mean *rain* for the time period between (and including) the upper and lower bound. Make the station name not case-sensitive. Use the inputs as in the example below (i.e. upper and lower bounds as strings) (*3 points*)\n",
    "\n",
    "```python \n",
    "mean_rainfall(df_weather, \"Manston\", \"january 2019\", \"march 2020\")  # returns 49.52\n",
    "mean_rainfall(df_weather, \"manston\", \"january 2019\", \"march 2020\")  # also returns 49.52\n",
    "```"
   ]
  },
  {
   "cell_type": "code",
   "execution_count": 46,
   "metadata": {},
   "outputs": [
    {
     "name": "stdout",
     "output_type": "stream",
     "text": [
      "Test output\n",
      "output correct: True\n"
     ]
    }
   ],
   "source": [
    "def mean_rainfall(data, station, lower_bound, upper_bound):\n",
    "    # convert station_name to lowercase for case-insensitive comparison\n",
    "    station = station.lower()\n",
    "    \n",
    "    # filter the DataFrame based on the station name and the time interval\n",
    "    filtered_df = data[(data['station'].str.lower() == station) & \n",
    "                     (data['datetime'] >= pd.to_datetime(lower_bound)) & \n",
    "                     (data['datetime'] <= pd.to_datetime(upper_bound))]\n",
    "    \n",
    "    # compute the mean rain\n",
    "    mean_rain = filtered_df['rain'].mean()\n",
    "    \n",
    "    return mean_rain\n",
    "\n",
    "uppercase = mean_rainfall(df_weather, \"Manston\", \"january 2019\", \"march 2020\")  # returns 49.52\n",
    "lowercase = mean_rainfall(df_weather, \"manston\", \"january 2019\", \"march 2020\")  # also returns 49.52\n",
    "\n",
    "# test output\n",
    "print(\"output correct:\", uppercase ==lowercase and uppercase== 49.52)"
   ]
  },
  {
   "cell_type": "markdown",
   "metadata": {},
   "source": [
    "3. Expand the function *mean_rainfall* of the previous point, such that it also returns the number of days since the maximum rainfall in the time-period selected and the current date (use 28th of March as reference) (*2 points*)\n",
    "\n",
    "```python \n",
    "mean_rainfall(df_weather, \"Manston\", \"january 2019\", \"march 2020\")  # returns 49.52, 1640\n",
    "```"
   ]
  },
  {
   "cell_type": "code",
   "execution_count": 49,
   "metadata": {},
   "outputs": [
    {
     "data": {
      "text/plain": [
       "(49.52, 1640)"
      ]
     },
     "execution_count": 49,
     "metadata": {},
     "output_type": "execute_result"
    }
   ],
   "source": [
    "def mean_rainfall(data, station, lower_bound, upper_bound):\n",
    "    # convert station_name to lowercase to be case-insensitive\n",
    "    station = station.lower()\n",
    "    \n",
    "    # filter the DataFrame based on the station name and the time interval\n",
    "    filtered_df = data[(data['station'].str.lower() == station) & \n",
    "                     (data['datetime'] >= pd.to_datetime(lower_bound)) & \n",
    "                     (data['datetime'] <= pd.to_datetime(upper_bound))]\n",
    "    \n",
    "    # compute the mean rainfall for the filtered DataFrame\n",
    "    mean_rain = filtered_df['rain'].mean()\n",
    "    \n",
    "    # find the maximum rainfall and its corresponding date\n",
    "    max_rain_date = filtered_df.loc[filtered_df['rain'].idxmax(), 'datetime']\n",
    "    \n",
    "    # calculate the number of days since the maximum rainfall to the current date (28th of March)\n",
    "    current_date = pd.to_datetime('2024-03-28')\n",
    "    days_since_max_rain = (current_date - max_rain_date).days\n",
    "    \n",
    "    return mean_rain, days_since_max_rain\n",
    "\n",
    "mean_rainfall(df_weather, \"Manston\", \"january 2019\", \"march 2020\")  # returns 49.52, 1640"
   ]
  }
 ],
 "metadata": {
  "kernelspec": {
   "display_name": "dash",
   "language": "python",
   "name": "python3"
  },
  "language_info": {
   "codemirror_mode": {
    "name": "ipython",
    "version": 3
   },
   "file_extension": ".py",
   "mimetype": "text/x-python",
   "name": "python",
   "nbconvert_exporter": "python",
   "pygments_lexer": "ipython3",
   "version": "3.11.5"
  }
 },
 "nbformat": 4,
 "nbformat_minor": 2
}
